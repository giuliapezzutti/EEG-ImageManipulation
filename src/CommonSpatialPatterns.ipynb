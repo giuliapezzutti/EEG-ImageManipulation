{
 "cells": [
  {
   "cell_type": "code",
   "execution_count": 1,
   "id": "9670cece-c681-422e-8148-49b634cda4c9",
   "metadata": {},
   "outputs": [
    {
     "name": "stderr",
     "output_type": "stream",
     "text": [
      "c:\\users\\giulia pezzutti\\appdata\\local\\programs\\python\\python37\\lib\\site-packages\\tqdm\\auto.py:22: TqdmWarning: IProgress not found. Please update jupyter and ipywidgets. See https://ipywidgets.readthedocs.io/en/stable/user_install.html\n",
      "  from .autonotebook import tqdm as notebook_tqdm\n"
     ]
    }
   ],
   "source": [
    "from sklearn.model_selection import ShuffleSplit\n",
    "\n",
    "from mne import Epochs, pick_types, events_from_annotations\n",
    "from mne.io import concatenate_raws, read_raw_edf\n",
    "from mne.datasets import eegbci\n",
    "\n",
    "\n",
    "import torch\n",
    "import torch.optim as optim\n",
    "from torch.utils.data import Dataset, DataLoader\n",
    "from torch.utils.data import Subset\n",
    "from torch import nn\n",
    "import torch.nn.functional as F\n",
    "from torch.utils.data import RandomSampler\n",
    "from torch.utils.data import SequentialSampler\n",
    "\n",
    "\n",
    "import os, sys\n",
    "sys.path.insert(1, os.path.abspath(os.path.join(os.getcwd(), os.pardir, \"src\"))) \n",
    "from common import EpochsDataset\n",
    "\n",
    "\n",
    "from common import train"
   ]
  },
  {
   "cell_type": "code",
   "execution_count": 8,
   "id": "9912f82c-8966-4b66-b8a2-fac65dcecea8",
   "metadata": {},
   "outputs": [
    {
     "name": "stdout",
     "output_type": "stream",
     "text": [
      "(595, 32, 751)\n",
      "(595,)\n"
     ]
    }
   ],
   "source": [
    "import pandas as pd\n",
    "import numpy as np\n",
    "import pickle\n",
    "\n",
    "\n",
    "# #############################################################################\n",
    "# # Set parameters and read data\n",
    "\n",
    "# avoid classification of evoked responses by using epochs that start 1s after\n",
    "# cue onset.\n",
    "\n",
    "\n",
    "def get_data():\n",
    "    tmin, tmax = -1., 4.\n",
    "    event_id = dict(hands=2, feet=3)\n",
    "    subject = 1\n",
    "    runs = [6, 10, 14]  # motor imagery: hands vs feet\n",
    "\n",
    "    raw_fnames = eegbci.load_data(subject, runs)\n",
    "    raw = concatenate_raws([read_raw_edf(f, preload=True) for f in raw_fnames])\n",
    "\n",
    "    # strip channel names of \".\" characters\n",
    "    raw.rename_channels(lambda x: x.strip('.'))\n",
    "\n",
    "    # Apply band-pass filter\n",
    "    raw.filter(7., 30., fir_design='firwin', skip_by_annotation='edge')\n",
    "\n",
    "    events, _ = events_from_annotations(raw)\n",
    "\n",
    "    picks = pick_types(raw.info, meg=False, eeg=True, stim=False, eog=False,\n",
    "                       exclude='bads')\n",
    "\n",
    "    # Read epochs (train will be done only between 1 and 2s)\n",
    "    # Testing will be done with a running classifier\n",
    "    epochs = Epochs(raw, events, event_id, tmin, tmax, proj=True, picks=picks,\n",
    "                    baseline=None, preload=True)\n",
    "    epochs.crop(tmin=1., tmax=None)\n",
    "    labels = epochs.events[:, 2] - 2\n",
    "    return epochs.get_data()[:, :, :256], labels\n",
    "\n",
    "\n",
    "def get_paradigm_data():\n",
    "\n",
    "    path_ratings = '../data/ratings-results/ratings-results.csv'\n",
    "    df_ratings = pd.read_csv(path_ratings, index_col=0)\n",
    "\n",
    "    code = 'vamo24'\n",
    "\n",
    "    with open('../data/pickle/' + code + '_data.pkl', 'rb') as f:\n",
    "        data = pickle.load(f)\n",
    "    with open('../data/pickle/' + code + '_info.pkl', 'rb') as f:\n",
    "        info = pickle.load(f)\n",
    "        index_channels_eeg = [index for index in range(len(info['channels'])) if\n",
    "                              'EOG' not in info['channels'][index]]\n",
    "        channels_eeg = np.array(info['channels'])[index_channels_eeg]\n",
    "    with open('../data/pickle/' + code + '_labels.pkl', 'rb') as f:\n",
    "        labels = pickle.load(f)\n",
    "        conditions = [label.split('/')[1] for label in labels]\n",
    "        unique_conditions = list(set(conditions))\n",
    "\n",
    "    for idx, epoch in enumerate(data):\n",
    "        data[idx] = (epoch - np.mean(epoch)) / np.std(epoch)\n",
    "\n",
    "    data_ratings = df_ratings.loc[df_ratings['code'] == code]\n",
    "    ratings = []\n",
    "    label_binary = []\n",
    "\n",
    "    for idx, _ in enumerate(data):\n",
    "        img_name = labels[idx].split('/')[0]\n",
    "        ratings.append(data_ratings.loc[data_ratings['img_name'] == img_name][['valence', 'arousal']].values[0])\n",
    "\n",
    "    for label in ratings:\n",
    "        valence = label[0]\n",
    "\n",
    "        if valence > 0:\n",
    "            label_binary.append(1)\n",
    "        else:\n",
    "            label_binary.append(0)\n",
    "\n",
    "    return data, np.array(label_binary)\n",
    "\n",
    "epochs_data, labels = get_paradigm_data()\n",
    "print(epochs_data.shape)\n",
    "print(labels.shape)"
   ]
  },
  {
   "cell_type": "code",
   "execution_count": 9,
   "id": "849dfe7e-2553-4ec8-9c10-a9628a9dba97",
   "metadata": {},
   "outputs": [],
   "source": [
    "cv = ShuffleSplit(10, test_size=0.2, random_state=42)\n",
    "cv_split = cv.split(epochs_data)\n",
    "train_idx, test_idx = next(cv_split)"
   ]
  },
  {
   "cell_type": "code",
   "execution_count": 10,
   "id": "461f8d11-ae8e-4e4e-9354-ccf167dc57fe",
   "metadata": {},
   "outputs": [],
   "source": [
    "def scale(X):\n",
    "    \"\"\"Standard scaling of data along the last dimention.\n",
    "\n",
    "    Parameters\n",
    "    ----------\n",
    "    X : array, shape (n_channels, n_times)\n",
    "        The input signals.\n",
    "\n",
    "    Returns\n",
    "    -------\n",
    "    X_t : array, shape (n_channels, n_times)\n",
    "        The scaled signals.\n",
    "    \"\"\"\n",
    "    return X / 2e-5"
   ]
  },
  {
   "cell_type": "code",
   "execution_count": 11,
   "id": "62df9a94-a4b4-40b0-9f85-94ede9eee41b",
   "metadata": {},
   "outputs": [],
   "source": [
    "dataset = EpochsDataset(epochs_data, labels, transform=scale)\n",
    "\n",
    "ds_train, ds_valid = Subset(dataset, train_idx), Subset(dataset, test_idx)\n",
    "\n",
    "batch_size_train = len(ds_train)\n",
    "batch_size_valid = len(ds_valid)\n",
    "sampler_train = RandomSampler(ds_train)\n",
    "sampler_valid = SequentialSampler(ds_valid)\n",
    "\n",
    "# create loaders\n",
    "num_workers = 0\n",
    "loader_train = \\\n",
    "    DataLoader(ds_train, batch_size=batch_size_train,\n",
    "               num_workers=num_workers, sampler=sampler_train)\n",
    "loader_valid = \\\n",
    "    DataLoader(ds_valid, batch_size=batch_size_valid,\n",
    "               num_workers=num_workers, sampler=sampler_valid)\n"
   ]
  },
  {
   "cell_type": "code",
   "execution_count": 12,
   "id": "1585d161-28ae-4cfb-a282-ba60d31e9408",
   "metadata": {},
   "outputs": [],
   "source": [
    "dataset = EpochsDataset(epochs_data, labels, transform=scale)\n",
    "\n",
    "ds_train, ds_valid = Subset(dataset, train_idx), Subset(dataset, test_idx)\n",
    "\n",
    "batch_size_train = len(ds_train)\n",
    "batch_size_valid = len(ds_valid)\n",
    "sampler_train = RandomSampler(ds_train)\n",
    "sampler_valid = SequentialSampler(ds_valid)\n",
    "\n",
    "# create loaders\n",
    "num_workers = 0\n",
    "loader_train = \\\n",
    "    DataLoader(ds_train, batch_size=batch_size_train,\n",
    "               num_workers=num_workers, sampler=sampler_train)\n",
    "loader_valid = \\\n",
    "    DataLoader(ds_valid, batch_size=batch_size_valid,\n",
    "               num_workers=num_workers, sampler=sampler_valid)"
   ]
  },
  {
   "cell_type": "markdown",
   "id": "ee660e1b-7cc8-4eb0-9de7-a70e4ca0f504",
   "metadata": {},
   "source": [
    "Model definition"
   ]
  },
  {
   "cell_type": "code",
   "execution_count": 13,
   "id": "c1c33f31-36c0-499e-8c6b-319447a197c3",
   "metadata": {},
   "outputs": [],
   "source": [
    "class CommonSpatialFilterModel(nn.Module):\n",
    "    \"\"\"The model implements a CSP-like network for BCI applications\n",
    "\n",
    "    Parameters\n",
    "    ----------\n",
    "    spatial_dim : int\n",
    "        Number of channels\n",
    "    n_components : int\n",
    "        The number of spatial filters.\n",
    "    \"\"\"\n",
    "    def __init__(self, spatial_dim, n_components=5):\n",
    "        super().__init__()\n",
    "        self.spatial_dim = spatial_dim\n",
    "        self.n_components = n_components\n",
    "\n",
    "        # define model architecture\n",
    "        self.spatial_filtering = nn.Conv2d(\n",
    "            1, self.n_components, (self.spatial_dim, 1), bias=False)\n",
    "\n",
    "        self.classifier = nn.Sequential(\n",
    "            nn.Linear(n_components, 2),\n",
    "        )\n",
    "\n",
    "    def forward(self, x):\n",
    "        x = self.spatial_filtering(x)\n",
    "        x = torch.sum(x ** 2, dim=3)\n",
    "        x = torch.log(x)\n",
    "        x = x.view(x.size(0), -1)\n",
    "        x = self.classifier(x)\n",
    "        x = F.log_softmax(x, dim=1)\n",
    "        return x"
   ]
  },
  {
   "cell_type": "code",
   "execution_count": 14,
   "id": "ced4e5d3-ce82-4530-919c-6fc97a19717c",
   "metadata": {},
   "outputs": [
    {
     "name": "stdout",
     "output_type": "stream",
     "text": [
      "Using device: cpu\n"
     ]
    }
   ],
   "source": [
    "device = torch.device('cuda' if torch.cuda.is_available() else 'cpu')\n",
    "print('Using device:', device)\n",
    "\n",
    "n_components = 30\n",
    "model = CommonSpatialFilterModel(spatial_dim=epochs_data.shape[1],\n",
    "                                 n_components=n_components)\n",
    "\n",
    "# Test model works:\n",
    "n_samples_test = 10\n",
    "y_test = torch.randint(0, 2, (n_samples_test,))\n",
    "y_pred = model.forward(torch.randn(n_samples_test, 1, *epochs_data.shape[1:]))\n",
    "output = F.nll_loss(y_pred, y_test)\n",
    "_, top_class = y_pred.topk(1, dim=1)\n"
   ]
  },
  {
   "cell_type": "markdown",
   "id": "4c3f4262-c640-4aca-aa5d-bac69422054f",
   "metadata": {},
   "source": [
    "Training"
   ]
  },
  {
   "cell_type": "code",
   "execution_count": 15,
   "id": "66c89ba0-0220-4e47-b383-6d5a88f7e9a7",
   "metadata": {},
   "outputs": [
    {
     "name": "stdout",
     "output_type": "stream",
     "text": [
      "\n",
      "Starting epoch 1 / 300\n"
     ]
    },
    {
     "name": "stderr",
     "output_type": "stream",
     "text": [
      "avg train loss: 2.4731: 100%|██████████| 1/1 [00:00<00:00,  3.00it/s]\n",
      "avg val loss: 9.3884: 100%|██████████| 1/1 [00:00<00:00, 13.33it/s]\n"
     ]
    },
    {
     "name": "stdout",
     "output_type": "stream",
     "text": [
      "---  Accuracy : 0.5378151535987854 \n",
      "\n",
      "\n",
      "best val loss inf -> 9.3884\n",
      "\n",
      "Starting epoch 2 / 300\n"
     ]
    },
    {
     "name": "stderr",
     "output_type": "stream",
     "text": [
      "avg train loss: 7.7315: 100%|██████████| 1/1 [00:00<00:00,  2.38it/s]\n",
      "avg val loss: 12.2776: 100%|██████████| 1/1 [00:00<00:00, 11.90it/s]\n"
     ]
    },
    {
     "name": "stdout",
     "output_type": "stream",
     "text": [
      "---  Accuracy : 0.5378151535987854 \n",
      "\n",
      "Waiting += 1\n",
      "\n",
      "Starting epoch 3 / 300\n"
     ]
    },
    {
     "name": "stderr",
     "output_type": "stream",
     "text": [
      "avg train loss: 10.0782: 100%|██████████| 1/1 [00:00<00:00,  2.76it/s]\n",
      "avg val loss: 7.8513: 100%|██████████| 1/1 [00:00<00:00, 13.51it/s]\n"
     ]
    },
    {
     "name": "stdout",
     "output_type": "stream",
     "text": [
      "---  Accuracy : 0.5378151535987854 \n",
      "\n",
      "\n",
      "best val loss 9.3884 -> 7.8513\n",
      "\n",
      "Starting epoch 4 / 300\n"
     ]
    },
    {
     "name": "stderr",
     "output_type": "stream",
     "text": [
      "avg train loss: 6.4329: 100%|██████████| 1/1 [00:00<00:00,  3.01it/s]\n",
      "avg val loss: 3.8506: 100%|██████████| 1/1 [00:00<00:00, 15.15it/s]\n"
     ]
    },
    {
     "name": "stdout",
     "output_type": "stream",
     "text": [
      "---  Accuracy : 0.462184876203537 \n",
      "\n",
      "\n",
      "best val loss 7.8513 -> 3.8506\n",
      "\n",
      "Starting epoch 5 / 300\n"
     ]
    },
    {
     "name": "stderr",
     "output_type": "stream",
     "text": [
      "avg train loss: 4.4328: 100%|██████████| 1/1 [00:00<00:00,  3.13it/s]\n",
      "avg val loss: 1.7873: 100%|██████████| 1/1 [00:00<00:00, 13.89it/s]\n"
     ]
    },
    {
     "name": "stdout",
     "output_type": "stream",
     "text": [
      "---  Accuracy : 0.462184876203537 \n",
      "\n",
      "\n",
      "best val loss 3.8506 -> 1.7873\n",
      "\n",
      "Starting epoch 6 / 300\n"
     ]
    },
    {
     "name": "stderr",
     "output_type": "stream",
     "text": [
      "avg train loss: 2.0373: 100%|██████████| 1/1 [00:00<00:00,  2.48it/s]\n",
      "avg val loss: 11.1758: 100%|██████████| 1/1 [00:00<00:00, 14.08it/s]\n"
     ]
    },
    {
     "name": "stdout",
     "output_type": "stream",
     "text": [
      "---  Accuracy : 0.5378151535987854 \n",
      "\n",
      "Waiting += 1\n",
      "\n",
      "Starting epoch 7 / 300\n"
     ]
    },
    {
     "name": "stderr",
     "output_type": "stream",
     "text": [
      "avg train loss: 9.1101: 100%|██████████| 1/1 [00:00<00:00,  2.95it/s]\n",
      "avg val loss: 15.4112: 100%|██████████| 1/1 [00:00<00:00, 13.70it/s]\n"
     ]
    },
    {
     "name": "stdout",
     "output_type": "stream",
     "text": [
      "---  Accuracy : 0.5378151535987854 \n",
      "\n",
      "Waiting += 1\n",
      "\n",
      "Starting epoch 8 / 300\n"
     ]
    },
    {
     "name": "stderr",
     "output_type": "stream",
     "text": [
      "avg train loss: 12.5588: 100%|██████████| 1/1 [00:00<00:00,  2.56it/s]\n",
      "avg val loss: 12.0573: 100%|██████████| 1/1 [00:00<00:00, 14.49it/s]\n"
     ]
    },
    {
     "name": "stdout",
     "output_type": "stream",
     "text": [
      "---  Accuracy : 0.5378151535987854 \n",
      "\n",
      "Waiting += 1\n",
      "\n",
      "Starting epoch 9 / 300\n"
     ]
    },
    {
     "name": "stderr",
     "output_type": "stream",
     "text": [
      "avg train loss: 9.8207: 100%|██████████| 1/1 [00:00<00:00,  2.96it/s]\n",
      "avg val loss: 1.8995: 100%|██████████| 1/1 [00:00<00:00, 13.51it/s]\n"
     ]
    },
    {
     "name": "stdout",
     "output_type": "stream",
     "text": [
      "---  Accuracy : 0.5378151535987854 \n",
      "\n",
      "Waiting += 1\n",
      "\n",
      "Starting epoch 10 / 300\n"
     ]
    },
    {
     "name": "stderr",
     "output_type": "stream",
     "text": [
      "avg train loss: 1.5592: 100%|██████████| 1/1 [00:00<00:00,  3.13it/s]\n",
      "avg val loss: 16.4088: 100%|██████████| 1/1 [00:00<00:00, 12.05it/s]\n"
     ]
    },
    {
     "name": "stdout",
     "output_type": "stream",
     "text": [
      "---  Accuracy : 0.462184876203537 \n",
      "\n",
      "Waiting += 1\n",
      "\n",
      "Starting epoch 11 / 300\n"
     ]
    },
    {
     "name": "stderr",
     "output_type": "stream",
     "text": [
      "avg train loss: 18.9880: 100%|██████████| 1/1 [00:00<00:00,  1.79it/s]\n",
      "avg val loss: 19.2827: 100%|██████████| 1/1 [00:00<00:00, 13.51it/s]\n"
     ]
    },
    {
     "name": "stdout",
     "output_type": "stream",
     "text": [
      "---  Accuracy : 0.462184876203537 \n",
      "\n",
      "Waiting += 1\n",
      "\n",
      "Starting epoch 12 / 300\n"
     ]
    },
    {
     "name": "stderr",
     "output_type": "stream",
     "text": [
      "avg train loss: 22.3300: 100%|██████████| 1/1 [00:00<00:00,  2.58it/s]\n",
      "avg val loss: 8.0373: 100%|██████████| 1/1 [00:00<00:00, 13.70it/s]\n"
     ]
    },
    {
     "name": "stdout",
     "output_type": "stream",
     "text": [
      "---  Accuracy : 0.462184876203537 \n",
      "\n",
      "Waiting += 1\n",
      "\n",
      "Starting epoch 13 / 300\n"
     ]
    },
    {
     "name": "stderr",
     "output_type": "stream",
     "text": [
      "avg train loss: 9.2880: 100%|██████████| 1/1 [00:00<00:00,  2.88it/s]\n",
      "avg val loss: 13.5602: 100%|██████████| 1/1 [00:00<00:00, 15.38it/s]\n"
     ]
    },
    {
     "name": "stdout",
     "output_type": "stream",
     "text": [
      "---  Accuracy : 0.5378151535987854 \n",
      "\n",
      "Waiting += 1\n",
      "\n",
      "Starting epoch 14 / 300\n"
     ]
    },
    {
     "name": "stderr",
     "output_type": "stream",
     "text": [
      "avg train loss: 11.0444: 100%|██████████| 1/1 [00:00<00:00,  1.78it/s]\n",
      "avg val loss: 24.8139: 100%|██████████| 1/1 [00:00<00:00, 12.99it/s]\n"
     ]
    },
    {
     "name": "stdout",
     "output_type": "stream",
     "text": [
      "---  Accuracy : 0.5378151535987854 \n",
      "\n",
      "Waiting += 1\n",
      "\n",
      "Starting epoch 15 / 300\n"
     ]
    },
    {
     "name": "stderr",
     "output_type": "stream",
     "text": [
      "avg train loss: 20.2001: 100%|██████████| 1/1 [00:00<00:00,  2.26it/s]\n",
      "avg val loss: 27.8786: 100%|██████████| 1/1 [00:00<00:00, 14.08it/s]\n"
     ]
    },
    {
     "name": "stdout",
     "output_type": "stream",
     "text": [
      "---  Accuracy : 0.5378151535987854 \n",
      "\n",
      "Waiting += 1\n",
      "\n",
      "Starting epoch 16 / 300\n"
     ]
    },
    {
     "name": "stderr",
     "output_type": "stream",
     "text": [
      "avg train loss: 22.6974: 100%|██████████| 1/1 [00:00<00:00,  1.04it/s]\n",
      "avg val loss: 23.5717: 100%|██████████| 1/1 [00:00<00:00, 11.90it/s]\n"
     ]
    },
    {
     "name": "stdout",
     "output_type": "stream",
     "text": [
      "---  Accuracy : 0.5378151535987854 \n",
      "\n",
      "Waiting += 1\n",
      "\n",
      "Starting epoch 17 / 300\n"
     ]
    },
    {
     "name": "stderr",
     "output_type": "stream",
     "text": [
      "avg train loss: 19.2066: 100%|██████████| 1/1 [00:00<00:00,  2.30it/s]\n",
      "avg val loss: 12.7164: 100%|██████████| 1/1 [00:00<00:00, 16.13it/s]\n"
     ]
    },
    {
     "name": "stdout",
     "output_type": "stream",
     "text": [
      "---  Accuracy : 0.5378151535987854 \n",
      "\n",
      "Waiting += 1\n",
      "\n",
      "Starting epoch 18 / 300\n"
     ]
    },
    {
     "name": "stderr",
     "output_type": "stream",
     "text": [
      "avg train loss: 10.3735: 100%|██████████| 1/1 [00:00<00:00,  2.72it/s]\n",
      "avg val loss: 4.6877: 100%|██████████| 1/1 [00:00<00:00, 13.16it/s]\n"
     ]
    },
    {
     "name": "stdout",
     "output_type": "stream",
     "text": [
      "---  Accuracy : 0.462184876203537 \n",
      "\n",
      "Waiting += 1\n",
      "\n",
      "Starting epoch 19 / 300\n"
     ]
    },
    {
     "name": "stderr",
     "output_type": "stream",
     "text": [
      "avg train loss: 5.3725: 100%|██████████| 1/1 [00:00<00:00,  2.49it/s]\n",
      "avg val loss: 8.6823: 100%|██████████| 1/1 [00:00<00:00, 13.70it/s]\n"
     ]
    },
    {
     "name": "stdout",
     "output_type": "stream",
     "text": [
      "---  Accuracy : 0.462184876203537 \n",
      "\n",
      "Waiting += 1\n",
      "\n",
      "Starting epoch 20 / 300\n"
     ]
    },
    {
     "name": "stderr",
     "output_type": "stream",
     "text": [
      "avg train loss: 10.0071: 100%|██████████| 1/1 [00:00<00:00,  2.49it/s]\n",
      "avg val loss: 1.1405: 100%|██████████| 1/1 [00:00<00:00, 13.16it/s]\n"
     ]
    },
    {
     "name": "stdout",
     "output_type": "stream",
     "text": [
      "---  Accuracy : 0.5378151535987854 \n",
      "\n",
      "\n",
      "best val loss 1.7873 -> 1.1405\n",
      "\n",
      "Starting epoch 21 / 300\n"
     ]
    },
    {
     "name": "stderr",
     "output_type": "stream",
     "text": [
      "avg train loss: 0.9739: 100%|██████████| 1/1 [00:00<00:00,  2.42it/s]\n",
      "avg val loss: 3.5577: 100%|██████████| 1/1 [00:00<00:00, 13.70it/s]\n"
     ]
    },
    {
     "name": "stdout",
     "output_type": "stream",
     "text": [
      "---  Accuracy : 0.5378151535987854 \n",
      "\n",
      "Waiting += 1\n",
      "\n",
      "Starting epoch 22 / 300\n"
     ]
    },
    {
     "name": "stderr",
     "output_type": "stream",
     "text": [
      "avg train loss: 2.9239: 100%|██████████| 1/1 [00:00<00:00,  2.56it/s]\n",
      "avg val loss: 1.3668: 100%|██████████| 1/1 [00:00<00:00, 12.82it/s]\n"
     ]
    },
    {
     "name": "stdout",
     "output_type": "stream",
     "text": [
      "---  Accuracy : 0.462184876203537 \n",
      "\n",
      "Waiting += 1\n",
      "\n",
      "Starting epoch 23 / 300\n"
     ]
    },
    {
     "name": "stderr",
     "output_type": "stream",
     "text": [
      "avg train loss: 1.5034: 100%|██████████| 1/1 [00:00<00:00,  2.17it/s]\n",
      "avg val loss: 4.1716: 100%|██████████| 1/1 [00:00<00:00, 13.16it/s]\n"
     ]
    },
    {
     "name": "stdout",
     "output_type": "stream",
     "text": [
      "---  Accuracy : 0.5378151535987854 \n",
      "\n",
      "Waiting += 1\n",
      "\n",
      "Starting epoch 24 / 300\n"
     ]
    },
    {
     "name": "stderr",
     "output_type": "stream",
     "text": [
      "avg train loss: 3.4085: 100%|██████████| 1/1 [00:00<00:00,  2.70it/s]\n",
      "avg val loss: 1.9839: 100%|██████████| 1/1 [00:00<00:00, 14.93it/s]\n"
     ]
    },
    {
     "name": "stdout",
     "output_type": "stream",
     "text": [
      "---  Accuracy : 0.5378151535987854 \n",
      "\n",
      "Waiting += 1\n",
      "\n",
      "Starting epoch 25 / 300\n"
     ]
    },
    {
     "name": "stderr",
     "output_type": "stream",
     "text": [
      "avg train loss: 1.6264: 100%|██████████| 1/1 [00:00<00:00,  2.87it/s]\n",
      "avg val loss: 7.7445: 100%|██████████| 1/1 [00:00<00:00, 12.99it/s]\n"
     ]
    },
    {
     "name": "stdout",
     "output_type": "stream",
     "text": [
      "---  Accuracy : 0.462184876203537 \n",
      "\n",
      "Waiting += 1\n",
      "\n",
      "Starting epoch 26 / 300\n"
     ]
    },
    {
     "name": "stderr",
     "output_type": "stream",
     "text": [
      "avg train loss: 8.9104: 100%|██████████| 1/1 [00:00<00:00,  2.39it/s]\n",
      "avg val loss: 3.3908: 100%|██████████| 1/1 [00:00<00:00, 13.16it/s]\n"
     ]
    },
    {
     "name": "stdout",
     "output_type": "stream",
     "text": [
      "---  Accuracy : 0.462184876203537 \n",
      "\n",
      "Waiting += 1\n",
      "\n",
      "Starting epoch 27 / 300\n"
     ]
    },
    {
     "name": "stderr",
     "output_type": "stream",
     "text": [
      "avg train loss: 3.8557: 100%|██████████| 1/1 [00:00<00:00,  2.27it/s]\n",
      "avg val loss: 11.8459: 100%|██████████| 1/1 [00:00<00:00, 13.70it/s]\n"
     ]
    },
    {
     "name": "stdout",
     "output_type": "stream",
     "text": [
      "---  Accuracy : 0.5378151535987854 \n",
      "\n",
      "Waiting += 1\n",
      "\n",
      "Starting epoch 28 / 300\n"
     ]
    },
    {
     "name": "stderr",
     "output_type": "stream",
     "text": [
      "avg train loss: 9.6510: 100%|██████████| 1/1 [00:00<00:00,  2.94it/s]\n",
      "avg val loss: 18.2136: 100%|██████████| 1/1 [00:00<00:00, 14.71it/s]\n"
     ]
    },
    {
     "name": "stdout",
     "output_type": "stream",
     "text": [
      "---  Accuracy : 0.5378151535987854 \n",
      "\n",
      "Waiting += 1\n",
      "\n",
      "Starting epoch 29 / 300\n"
     ]
    },
    {
     "name": "stderr",
     "output_type": "stream",
     "text": [
      "avg train loss: 14.8270: 100%|██████████| 1/1 [00:00<00:00,  2.99it/s]\n",
      "avg val loss: 17.0418: 100%|██████████| 1/1 [00:00<00:00, 15.62it/s]\n"
     ]
    },
    {
     "name": "stdout",
     "output_type": "stream",
     "text": [
      "---  Accuracy : 0.5378151535987854 \n",
      "\n",
      "Waiting += 1\n",
      "\n",
      "Starting epoch 30 / 300\n"
     ]
    },
    {
     "name": "stderr",
     "output_type": "stream",
     "text": [
      "avg train loss: 13.8747: 100%|██████████| 1/1 [00:00<00:00,  3.13it/s]\n",
      "avg val loss: 9.1336: 100%|██████████| 1/1 [00:00<00:00, 12.82it/s]\n"
     ]
    },
    {
     "name": "stdout",
     "output_type": "stream",
     "text": [
      "---  Accuracy : 0.5378151535987854 \n",
      "\n",
      "Waiting += 1\n",
      "\n",
      "Starting epoch 31 / 300\n"
     ]
    },
    {
     "name": "stderr",
     "output_type": "stream",
     "text": [
      "avg train loss: 7.4344: 100%|██████████| 1/1 [00:00<00:00,  3.22it/s]\n",
      "avg val loss: 5.5277: 100%|██████████| 1/1 [00:00<00:00, 15.63it/s]\n"
     ]
    },
    {
     "name": "stdout",
     "output_type": "stream",
     "text": [
      "---  Accuracy : 0.462184876203537 \n",
      "\n",
      "Waiting += 1\n",
      "\n",
      "Starting epoch 32 / 300\n"
     ]
    },
    {
     "name": "stderr",
     "output_type": "stream",
     "text": [
      "avg train loss: 6.3223: 100%|██████████| 1/1 [00:00<00:00,  3.12it/s]\n",
      "avg val loss: 6.9108: 100%|██████████| 1/1 [00:00<00:00, 15.87it/s]\n"
     ]
    },
    {
     "name": "stdout",
     "output_type": "stream",
     "text": [
      "---  Accuracy : 0.462184876203537 \n",
      "\n",
      "Waiting += 1\n",
      "\n",
      "Starting epoch 33 / 300\n"
     ]
    },
    {
     "name": "stderr",
     "output_type": "stream",
     "text": [
      "avg train loss: 7.9235: 100%|██████████| 1/1 [00:00<00:00,  2.78it/s]\n",
      "avg val loss: 4.2280: 100%|██████████| 1/1 [00:00<00:00, 15.87it/s]\n"
     ]
    },
    {
     "name": "stdout",
     "output_type": "stream",
     "text": [
      "---  Accuracy : 0.5378151535987854 \n",
      "\n",
      "Waiting += 1\n",
      "\n",
      "Starting epoch 34 / 300\n"
     ]
    },
    {
     "name": "stderr",
     "output_type": "stream",
     "text": [
      "avg train loss: 3.4840: 100%|██████████| 1/1 [00:00<00:00,  3.08it/s]\n",
      "avg val loss: 6.5608: 100%|██████████| 1/1 [00:00<00:00, 12.05it/s]\n"
     ]
    },
    {
     "name": "stdout",
     "output_type": "stream",
     "text": [
      "---  Accuracy : 0.5378151535987854 \n",
      "\n",
      "Waiting += 1\n",
      "\n",
      "Starting epoch 35 / 300\n"
     ]
    },
    {
     "name": "stderr",
     "output_type": "stream",
     "text": [
      "avg train loss: 5.3945: 100%|██████████| 1/1 [00:00<00:00,  3.08it/s]\n",
      "avg val loss: 2.0235: 100%|██████████| 1/1 [00:00<00:00, 16.39it/s]\n"
     ]
    },
    {
     "name": "stdout",
     "output_type": "stream",
     "text": [
      "---  Accuracy : 0.5378151535987854 \n",
      "\n",
      "Waiting += 1\n",
      "\n",
      "Starting epoch 36 / 300\n"
     ]
    },
    {
     "name": "stderr",
     "output_type": "stream",
     "text": [
      "avg train loss: 1.6913: 100%|██████████| 1/1 [00:00<00:00,  3.12it/s]\n",
      "avg val loss: 10.0265: 100%|██████████| 1/1 [00:00<00:00, 13.70it/s]\n"
     ]
    },
    {
     "name": "stdout",
     "output_type": "stream",
     "text": [
      "---  Accuracy : 0.462184876203537 \n",
      "\n",
      "Waiting += 1\n",
      "\n",
      "Starting epoch 37 / 300\n"
     ]
    },
    {
     "name": "stderr",
     "output_type": "stream",
     "text": [
      "avg train loss: 11.5405: 100%|██████████| 1/1 [00:00<00:00,  3.22it/s]\n",
      "avg val loss: 8.1188: 100%|██████████| 1/1 [00:00<00:00, 15.63it/s]\n"
     ]
    },
    {
     "name": "stdout",
     "output_type": "stream",
     "text": [
      "---  Accuracy : 0.462184876203537 \n",
      "\n",
      "Waiting += 1\n",
      "\n",
      "Starting epoch 38 / 300\n"
     ]
    },
    {
     "name": "stderr",
     "output_type": "stream",
     "text": [
      "avg train loss: 9.3176: 100%|██████████| 1/1 [00:00<00:00,  3.23it/s]\n",
      "avg val loss: 5.6168: 100%|██████████| 1/1 [00:00<00:00, 15.38it/s]\n"
     ]
    },
    {
     "name": "stdout",
     "output_type": "stream",
     "text": [
      "---  Accuracy : 0.5378151535987854 \n",
      "\n",
      "Waiting += 1\n",
      "\n",
      "Starting epoch 39 / 300\n"
     ]
    },
    {
     "name": "stderr",
     "output_type": "stream",
     "text": [
      "avg train loss: 4.6065: 100%|██████████| 1/1 [00:00<00:00,  3.07it/s]\n",
      "avg val loss: 10.2234: 100%|██████████| 1/1 [00:00<00:00, 15.15it/s]\n"
     ]
    },
    {
     "name": "stdout",
     "output_type": "stream",
     "text": [
      "---  Accuracy : 0.5378151535987854 \n",
      "\n",
      "Waiting += 1\n",
      "\n",
      "Starting epoch 40 / 300\n"
     ]
    },
    {
     "name": "stderr",
     "output_type": "stream",
     "text": [
      "avg train loss: 8.3506: 100%|██████████| 1/1 [00:00<00:00,  2.93it/s]\n",
      "avg val loss: 7.6022: 100%|██████████| 1/1 [00:00<00:00, 15.15it/s]\n"
     ]
    },
    {
     "name": "stdout",
     "output_type": "stream",
     "text": [
      "---  Accuracy : 0.5378151535987854 \n",
      "\n",
      "Waiting += 1\n",
      "\n",
      "Starting epoch 41 / 300\n"
     ]
    },
    {
     "name": "stderr",
     "output_type": "stream",
     "text": [
      "avg train loss: 6.2299: 100%|██████████| 1/1 [00:00<00:00,  2.99it/s]\n",
      "avg val loss: 1.7463: 100%|██████████| 1/1 [00:00<00:00, 10.87it/s]\n"
     ]
    },
    {
     "name": "stdout",
     "output_type": "stream",
     "text": [
      "---  Accuracy : 0.462184876203537 \n",
      "\n",
      "Waiting += 1\n",
      "\n",
      "Starting epoch 42 / 300\n"
     ]
    },
    {
     "name": "stderr",
     "output_type": "stream",
     "text": [
      "avg train loss: 1.9019: 100%|██████████| 1/1 [00:00<00:00,  2.81it/s]\n",
      "avg val loss: 0.7879: 100%|██████████| 1/1 [00:00<00:00, 13.51it/s]\n"
     ]
    },
    {
     "name": "stdout",
     "output_type": "stream",
     "text": [
      "---  Accuracy : 0.4957983195781708 \n",
      "\n",
      "\n",
      "best val loss 1.1405 -> 0.7879\n",
      "\n",
      "Starting epoch 43 / 300\n"
     ]
    },
    {
     "name": "stderr",
     "output_type": "stream",
     "text": [
      "avg train loss: 0.7457: 100%|██████████| 1/1 [00:00<00:00,  2.81it/s]\n",
      "avg val loss: 2.2003: 100%|██████████| 1/1 [00:00<00:00, 15.15it/s]\n"
     ]
    },
    {
     "name": "stdout",
     "output_type": "stream",
     "text": [
      "---  Accuracy : 0.5378151535987854 \n",
      "\n",
      "Waiting += 1\n",
      "\n",
      "Starting epoch 44 / 300\n"
     ]
    },
    {
     "name": "stderr",
     "output_type": "stream",
     "text": [
      "avg train loss: 1.8263: 100%|██████████| 1/1 [00:00<00:00,  2.89it/s]\n",
      "avg val loss: 2.9316: 100%|██████████| 1/1 [00:00<00:00, 15.62it/s]\n"
     ]
    },
    {
     "name": "stdout",
     "output_type": "stream",
     "text": [
      "---  Accuracy : 0.462184876203537 \n",
      "\n",
      "Waiting += 1\n",
      "\n",
      "Starting epoch 45 / 300\n"
     ]
    },
    {
     "name": "stderr",
     "output_type": "stream",
     "text": [
      "avg train loss: 3.3330: 100%|██████████| 1/1 [00:00<00:00,  3.00it/s]\n",
      "avg val loss: 4.2891: 100%|██████████| 1/1 [00:00<00:00, 11.63it/s]\n"
     ]
    },
    {
     "name": "stdout",
     "output_type": "stream",
     "text": [
      "---  Accuracy : 0.5378151535987854 \n",
      "\n",
      "Waiting += 1\n",
      "\n",
      "Starting epoch 46 / 300\n"
     ]
    },
    {
     "name": "stderr",
     "output_type": "stream",
     "text": [
      "avg train loss: 3.5091: 100%|██████████| 1/1 [00:00<00:00,  2.28it/s]\n",
      "avg val loss: 3.6809: 100%|██████████| 1/1 [00:00<00:00, 13.16it/s]\n"
     ]
    },
    {
     "name": "stdout",
     "output_type": "stream",
     "text": [
      "---  Accuracy : 0.5378151535987854 \n",
      "\n",
      "Waiting += 1\n",
      "\n",
      "Starting epoch 47 / 300\n"
     ]
    },
    {
     "name": "stderr",
     "output_type": "stream",
     "text": [
      "avg train loss: 3.0084: 100%|██████████| 1/1 [00:00<00:00,  2.40it/s]\n",
      "avg val loss: 4.2037: 100%|██████████| 1/1 [00:00<00:00, 13.33it/s]\n"
     ]
    },
    {
     "name": "stdout",
     "output_type": "stream",
     "text": [
      "---  Accuracy : 0.462184876203537 \n",
      "\n",
      "Waiting += 1\n",
      "\n",
      "Starting epoch 48 / 300\n"
     ]
    },
    {
     "name": "stderr",
     "output_type": "stream",
     "text": [
      "avg train loss: 4.8357: 100%|██████████| 1/1 [00:00<00:00,  3.13it/s]\n",
      "avg val loss: 1.1077: 100%|██████████| 1/1 [00:00<00:00, 15.63it/s]\n"
     ]
    },
    {
     "name": "stdout",
     "output_type": "stream",
     "text": [
      "---  Accuracy : 0.5378151535987854 \n",
      "\n",
      "Waiting += 1\n",
      "\n",
      "Starting epoch 49 / 300\n"
     ]
    },
    {
     "name": "stderr",
     "output_type": "stream",
     "text": [
      "avg train loss: 0.9220: 100%|██████████| 1/1 [00:00<00:00,  3.03it/s]\n",
      "avg val loss: 0.7388: 100%|██████████| 1/1 [00:00<00:00, 16.13it/s]\n"
     ]
    },
    {
     "name": "stdout",
     "output_type": "stream",
     "text": [
      "---  Accuracy : 0.5462185144424438 \n",
      "\n",
      "\n",
      "best val loss 0.7879 -> 0.7388\n",
      "\n",
      "Starting epoch 50 / 300\n"
     ]
    },
    {
     "name": "stderr",
     "output_type": "stream",
     "text": [
      "avg train loss: 0.6626: 100%|██████████| 1/1 [00:00<00:00,  3.13it/s]\n",
      "avg val loss: 1.3914: 100%|██████████| 1/1 [00:00<00:00, 13.16it/s]\n"
     ]
    },
    {
     "name": "stdout",
     "output_type": "stream",
     "text": [
      "---  Accuracy : 0.462184876203537 \n",
      "\n",
      "Waiting += 1\n",
      "\n",
      "Starting epoch 51 / 300\n"
     ]
    },
    {
     "name": "stderr",
     "output_type": "stream",
     "text": [
      "avg train loss: 1.5771: 100%|██████████| 1/1 [00:00<00:00,  2.80it/s]\n",
      "avg val loss: 7.2127: 100%|██████████| 1/1 [00:00<00:00, 12.99it/s]\n"
     ]
    },
    {
     "name": "stdout",
     "output_type": "stream",
     "text": [
      "---  Accuracy : 0.5378151535987854 \n",
      "\n",
      "Waiting += 1\n",
      "\n",
      "Starting epoch 52 / 300\n"
     ]
    },
    {
     "name": "stderr",
     "output_type": "stream",
     "text": [
      "avg train loss: 5.8371: 100%|██████████| 1/1 [00:00<00:00,  3.26it/s]\n",
      "avg val loss: 7.9435: 100%|██████████| 1/1 [00:00<00:00, 15.15it/s]\n"
     ]
    },
    {
     "name": "stdout",
     "output_type": "stream",
     "text": [
      "---  Accuracy : 0.5378151535987854 \n",
      "\n",
      "Waiting += 1\n",
      "\n",
      "Starting epoch 53 / 300\n"
     ]
    },
    {
     "name": "stderr",
     "output_type": "stream",
     "text": [
      "avg train loss: 6.4239: 100%|██████████| 1/1 [00:00<00:00,  3.02it/s]\n",
      "avg val loss: 1.8333: 100%|██████████| 1/1 [00:00<00:00, 14.93it/s]\n"
     ]
    },
    {
     "name": "stdout",
     "output_type": "stream",
     "text": [
      "---  Accuracy : 0.5378151535987854 \n",
      "\n",
      "Waiting += 1\n",
      "\n",
      "Starting epoch 54 / 300\n"
     ]
    },
    {
     "name": "stderr",
     "output_type": "stream",
     "text": [
      "avg train loss: 1.4679: 100%|██████████| 1/1 [00:00<00:00,  2.42it/s]\n",
      "avg val loss: 11.6984: 100%|██████████| 1/1 [00:00<00:00, 14.93it/s]\n"
     ]
    },
    {
     "name": "stdout",
     "output_type": "stream",
     "text": [
      "---  Accuracy : 0.462184876203537 \n",
      "\n",
      "Waiting += 1\n",
      "\n",
      "Starting epoch 55 / 300\n"
     ]
    },
    {
     "name": "stderr",
     "output_type": "stream",
     "text": [
      "avg train loss: 13.5438: 100%|██████████| 1/1 [00:00<00:00,  2.38it/s]\n",
      "avg val loss: 11.0700: 100%|██████████| 1/1 [00:00<00:00, 13.33it/s]\n"
     ]
    },
    {
     "name": "stdout",
     "output_type": "stream",
     "text": [
      "---  Accuracy : 0.462184876203537 \n",
      "\n",
      "Waiting += 1\n",
      "\n",
      "Starting epoch 56 / 300\n"
     ]
    },
    {
     "name": "stderr",
     "output_type": "stream",
     "text": [
      "avg train loss: 12.8082: 100%|██████████| 1/1 [00:00<00:00,  2.39it/s]\n",
      "avg val loss: 2.1201: 100%|██████████| 1/1 [00:00<00:00, 15.63it/s]\n"
     ]
    },
    {
     "name": "stdout",
     "output_type": "stream",
     "text": [
      "---  Accuracy : 0.5378151535987854 \n",
      "\n",
      "Waiting += 1\n",
      "\n",
      "Starting epoch 57 / 300\n"
     ]
    },
    {
     "name": "stderr",
     "output_type": "stream",
     "text": [
      "avg train loss: 1.7061: 100%|██████████| 1/1 [00:00<00:00,  2.70it/s]\n",
      "avg val loss: 6.0444: 100%|██████████| 1/1 [00:00<00:00, 15.63it/s]\n"
     ]
    },
    {
     "name": "stdout",
     "output_type": "stream",
     "text": [
      "---  Accuracy : 0.5378151535987854 \n",
      "\n",
      "Waiting += 1\n",
      "\n",
      "Starting epoch 58 / 300\n"
     ]
    },
    {
     "name": "stderr",
     "output_type": "stream",
     "text": [
      "avg train loss: 4.8921: 100%|██████████| 1/1 [00:00<00:00,  2.80it/s]\n",
      "avg val loss: 2.8504: 100%|██████████| 1/1 [00:00<00:00, 15.87it/s]\n"
     ]
    },
    {
     "name": "stdout",
     "output_type": "stream",
     "text": [
      "---  Accuracy : 0.5378151535987854 \n",
      "\n",
      "Waiting += 1\n",
      "\n",
      "Starting epoch 59 / 300\n"
     ]
    },
    {
     "name": "stderr",
     "output_type": "stream",
     "text": [
      "avg train loss: 2.3014: 100%|██████████| 1/1 [00:00<00:00,  2.88it/s]\n",
      "avg val loss: 7.7574: 100%|██████████| 1/1 [00:00<00:00, 14.93it/s]\n"
     ]
    },
    {
     "name": "stdout",
     "output_type": "stream",
     "text": [
      "---  Accuracy : 0.462184876203537 \n",
      "\n",
      "Waiting += 1\n",
      "\n",
      "Starting epoch 60 / 300\n"
     ]
    },
    {
     "name": "stderr",
     "output_type": "stream",
     "text": [
      "avg train loss: 8.9497: 100%|██████████| 1/1 [00:00<00:00,  2.94it/s]\n",
      "avg val loss: 4.7732: 100%|██████████| 1/1 [00:00<00:00, 12.82it/s]\n"
     ]
    },
    {
     "name": "stdout",
     "output_type": "stream",
     "text": [
      "---  Accuracy : 0.462184876203537 \n",
      "\n",
      "Waiting += 1\n",
      "\n",
      "Starting epoch 61 / 300\n"
     ]
    },
    {
     "name": "stderr",
     "output_type": "stream",
     "text": [
      "avg train loss: 5.4901: 100%|██████████| 1/1 [00:00<00:00,  3.19it/s]\n",
      "avg val loss: 9.2589: 100%|██████████| 1/1 [00:00<00:00, 12.66it/s]\n"
     ]
    },
    {
     "name": "stdout",
     "output_type": "stream",
     "text": [
      "---  Accuracy : 0.5378151535987854 \n",
      "\n",
      "Waiting += 1\n",
      "\n",
      "Starting epoch 62 / 300\n"
     ]
    },
    {
     "name": "stderr",
     "output_type": "stream",
     "text": [
      "avg train loss: 7.5225: 100%|██████████| 1/1 [00:00<00:00,  2.76it/s]\n",
      "avg val loss: 14.6217: 100%|██████████| 1/1 [00:00<00:00, 16.13it/s]\n"
     ]
    },
    {
     "name": "stdout",
     "output_type": "stream",
     "text": [
      "---  Accuracy : 0.5378151535987854 \n",
      "\n",
      "Waiting += 1\n",
      "\n",
      "Starting epoch 63 / 300\n"
     ]
    },
    {
     "name": "stderr",
     "output_type": "stream",
     "text": [
      "avg train loss: 11.8741: 100%|██████████| 1/1 [00:00<00:00,  3.14it/s]\n",
      "avg val loss: 12.7478: 100%|██████████| 1/1 [00:00<00:00, 13.70it/s]\n"
     ]
    },
    {
     "name": "stdout",
     "output_type": "stream",
     "text": [
      "---  Accuracy : 0.5378151535987854 \n",
      "\n",
      "Waiting += 1\n",
      "\n",
      "Starting epoch 64 / 300\n"
     ]
    },
    {
     "name": "stderr",
     "output_type": "stream",
     "text": [
      "avg train loss: 10.3601: 100%|██████████| 1/1 [00:00<00:00,  3.02it/s]\n",
      "avg val loss: 4.4016: 100%|██████████| 1/1 [00:00<00:00, 13.70it/s]\n"
     ]
    },
    {
     "name": "stdout",
     "output_type": "stream",
     "text": [
      "---  Accuracy : 0.5378151535987854 \n",
      "\n",
      "Waiting += 1\n",
      "\n",
      "Starting epoch 65 / 300\n"
     ]
    },
    {
     "name": "stderr",
     "output_type": "stream",
     "text": [
      "avg train loss: 3.5978: 100%|██████████| 1/1 [00:00<00:00,  2.98it/s]\n",
      "avg val loss: 11.1771: 100%|██████████| 1/1 [00:00<00:00, 13.70it/s]\n"
     ]
    },
    {
     "name": "stdout",
     "output_type": "stream",
     "text": [
      "---  Accuracy : 0.462184876203537 \n",
      "\n",
      "Waiting += 1\n",
      "\n",
      "Starting epoch 66 / 300\n"
     ]
    },
    {
     "name": "stderr",
     "output_type": "stream",
     "text": [
      "avg train loss: 12.8640: 100%|██████████| 1/1 [00:00<00:00,  2.54it/s]\n",
      "avg val loss: 13.1597: 100%|██████████| 1/1 [00:00<00:00, 13.70it/s]\n"
     ]
    },
    {
     "name": "stdout",
     "output_type": "stream",
     "text": [
      "---  Accuracy : 0.462184876203537 \n",
      "\n",
      "Waiting += 1\n",
      "\n",
      "Starting epoch 67 / 300\n"
     ]
    },
    {
     "name": "stderr",
     "output_type": "stream",
     "text": [
      "avg train loss: 15.1393: 100%|██████████| 1/1 [00:00<00:00,  2.34it/s]\n",
      "avg val loss: 2.4301: 100%|██████████| 1/1 [00:00<00:00, 15.87it/s]\n"
     ]
    },
    {
     "name": "stdout",
     "output_type": "stream",
     "text": [
      "---  Accuracy : 0.462184876203537 \n",
      "\n",
      "Waiting += 1\n",
      "\n",
      "Starting epoch 68 / 300\n"
     ]
    },
    {
     "name": "stderr",
     "output_type": "stream",
     "text": [
      "avg train loss: 2.6800: 100%|██████████| 1/1 [00:00<00:00,  2.86it/s]\n",
      "avg val loss: 16.5909: 100%|██████████| 1/1 [00:00<00:00, 15.63it/s]\n"
     ]
    },
    {
     "name": "stdout",
     "output_type": "stream",
     "text": [
      "---  Accuracy : 0.5378151535987854 \n",
      "\n",
      "Waiting += 1\n",
      "\n",
      "Starting epoch 69 / 300\n"
     ]
    },
    {
     "name": "stderr",
     "output_type": "stream",
     "text": [
      "avg train loss: 13.5015: 100%|██████████| 1/1 [00:00<00:00,  3.21it/s]\n",
      "avg val loss: 26.7572: 100%|██████████| 1/1 [00:00<00:00, 12.35it/s]\n"
     ]
    },
    {
     "name": "stdout",
     "output_type": "stream",
     "text": [
      "---  Accuracy : 0.5378151535987854 \n",
      "\n",
      "Waiting += 1\n",
      "\n",
      "Starting epoch 70 / 300\n"
     ]
    },
    {
     "name": "stderr",
     "output_type": "stream",
     "text": [
      "avg train loss: 21.7512: 100%|██████████| 1/1 [00:00<00:00,  2.97it/s]\n",
      "avg val loss: 29.2215: 100%|██████████| 1/1 [00:00<00:00, 15.63it/s]\n"
     ]
    },
    {
     "name": "stdout",
     "output_type": "stream",
     "text": [
      "---  Accuracy : 0.5378151535987854 \n",
      "\n",
      "Waiting += 1\n",
      "\n",
      "Starting epoch 71 / 300\n"
     ]
    },
    {
     "name": "stderr",
     "output_type": "stream",
     "text": [
      "avg train loss: 23.7838: 100%|██████████| 1/1 [00:01<00:00,  1.38s/it]\n",
      "avg val loss: 25.4605: 100%|██████████| 1/1 [00:00<00:00, 14.29it/s]\n"
     ]
    },
    {
     "name": "stdout",
     "output_type": "stream",
     "text": [
      "---  Accuracy : 0.5378151535987854 \n",
      "\n",
      "Waiting += 1\n",
      "\n",
      "Starting epoch 72 / 300\n"
     ]
    },
    {
     "name": "stderr",
     "output_type": "stream",
     "text": [
      "avg train loss: 20.7098: 100%|██████████| 1/1 [00:00<00:00,  2.36it/s]\n",
      "avg val loss: 15.3306: 100%|██████████| 1/1 [00:00<00:00, 13.16it/s]\n"
     ]
    },
    {
     "name": "stdout",
     "output_type": "stream",
     "text": [
      "---  Accuracy : 0.5378151535987854 \n",
      "\n",
      "Waiting += 1\n",
      "\n",
      "Starting epoch 73 / 300\n"
     ]
    },
    {
     "name": "stderr",
     "output_type": "stream",
     "text": [
      "avg train loss: 12.5382: 100%|██████████| 1/1 [00:00<00:00,  2.40it/s]\n",
      "avg val loss: 0.8014: 100%|██████████| 1/1 [00:00<00:00, 13.16it/s]\n"
     ]
    },
    {
     "name": "stdout",
     "output_type": "stream",
     "text": [
      "---  Accuracy : 0.5210084319114685 \n",
      "\n",
      "Waiting += 1\n",
      "\n",
      "Starting epoch 74 / 300\n"
     ]
    },
    {
     "name": "stderr",
     "output_type": "stream",
     "text": [
      "avg train loss: 0.7436: 100%|██████████| 1/1 [00:00<00:00,  2.82it/s]\n",
      "avg val loss: 15.2896: 100%|██████████| 1/1 [00:00<00:00, 11.90it/s]\n"
     ]
    },
    {
     "name": "stdout",
     "output_type": "stream",
     "text": [
      "---  Accuracy : 0.462184876203537 \n",
      "\n",
      "Waiting += 1\n",
      "\n",
      "Starting epoch 75 / 300\n"
     ]
    },
    {
     "name": "stderr",
     "output_type": "stream",
     "text": [
      "avg train loss: 17.6352: 100%|██████████| 1/1 [00:00<00:00,  2.79it/s]\n",
      "avg val loss: 17.0116: 100%|██████████| 1/1 [00:00<00:00, 12.82it/s]\n"
     ]
    },
    {
     "name": "stdout",
     "output_type": "stream",
     "text": [
      "---  Accuracy : 0.462184876203537 \n",
      "\n",
      "Waiting += 1\n",
      "\n",
      "Starting epoch 76 / 300\n"
     ]
    },
    {
     "name": "stderr",
     "output_type": "stream",
     "text": [
      "avg train loss: 19.6295: 100%|██████████| 1/1 [00:00<00:00,  2.36it/s]\n",
      "avg val loss: 6.0660: 100%|██████████| 1/1 [00:00<00:00, 13.16it/s]\n"
     ]
    },
    {
     "name": "stdout",
     "output_type": "stream",
     "text": [
      "---  Accuracy : 0.462184876203537 \n",
      "\n",
      "Waiting += 1\n",
      "\n",
      "Starting epoch 77 / 300\n"
     ]
    },
    {
     "name": "stderr",
     "output_type": "stream",
     "text": [
      "avg train loss: 6.9763: 100%|██████████| 1/1 [00:00<00:00,  2.69it/s]\n",
      "avg val loss: 13.9790: 100%|██████████| 1/1 [00:00<00:00, 12.20it/s]\n"
     ]
    },
    {
     "name": "stdout",
     "output_type": "stream",
     "text": [
      "---  Accuracy : 0.5378151535987854 \n",
      "\n",
      "Waiting += 1\n",
      "\n",
      "Starting epoch 78 / 300\n"
     ]
    },
    {
     "name": "stderr",
     "output_type": "stream",
     "text": [
      "avg train loss: 11.3323: 100%|██████████| 1/1 [00:00<00:00,  2.49it/s]\n",
      "avg val loss: 24.7375: 100%|██████████| 1/1 [00:00<00:00, 11.63it/s]\n"
     ]
    },
    {
     "name": "stdout",
     "output_type": "stream",
     "text": [
      "---  Accuracy : 0.5378151535987854 \n",
      "\n",
      "Waiting += 1\n",
      "\n",
      "Starting epoch 79 / 300\n"
     ]
    },
    {
     "name": "stderr",
     "output_type": "stream",
     "text": [
      "avg train loss: 20.0615: 100%|██████████| 1/1 [00:00<00:00,  2.05it/s]\n",
      "avg val loss: 27.9939: 100%|██████████| 1/1 [00:00<00:00, 12.99it/s]\n"
     ]
    },
    {
     "name": "stdout",
     "output_type": "stream",
     "text": [
      "---  Accuracy : 0.5378151535987854 \n",
      "\n",
      "Waiting += 1\n",
      "\n",
      "Starting epoch 80 / 300\n"
     ]
    },
    {
     "name": "stderr",
     "output_type": "stream",
     "text": [
      "avg train loss: 22.6922: 100%|██████████| 1/1 [00:00<00:00,  1.09it/s]\n",
      "avg val loss: 24.3068: 100%|██████████| 1/1 [00:00<00:00, 12.35it/s]\n"
     ]
    },
    {
     "name": "stdout",
     "output_type": "stream",
     "text": [
      "---  Accuracy : 0.5378151535987854 \n",
      "\n",
      "Waiting += 1\n",
      "\n",
      "Starting epoch 81 / 300\n"
     ]
    },
    {
     "name": "stderr",
     "output_type": "stream",
     "text": [
      "avg train loss: 19.7129: 100%|██████████| 1/1 [00:00<00:00,  2.39it/s]\n",
      "avg val loss: 14.6157: 100%|██████████| 1/1 [00:00<00:00, 11.63it/s]\n"
     ]
    },
    {
     "name": "stdout",
     "output_type": "stream",
     "text": [
      "---  Accuracy : 0.5378151535987854 \n",
      "\n",
      "Waiting += 1\n",
      "\n",
      "Starting epoch 82 / 300\n"
     ]
    },
    {
     "name": "stderr",
     "output_type": "stream",
     "text": [
      "avg train loss: 11.8345: 100%|██████████| 1/1 [00:00<00:00,  3.14it/s]\n",
      "avg val loss: 0.8282: 100%|██████████| 1/1 [00:00<00:00, 12.35it/s]\n"
     ]
    },
    {
     "name": "stdout",
     "output_type": "stream",
     "text": [
      "---  Accuracy : 0.4957983195781708 \n",
      "\n",
      "Waiting += 1\n",
      "\n",
      "Starting epoch 83 / 300\n"
     ]
    },
    {
     "name": "stderr",
     "output_type": "stream",
     "text": [
      "avg train loss: 0.8630: 100%|██████████| 1/1 [00:00<00:00,  2.29it/s]\n",
      "avg val loss: 11.7249: 100%|██████████| 1/1 [00:00<00:00, 13.16it/s]\n"
     ]
    },
    {
     "name": "stdout",
     "output_type": "stream",
     "text": [
      "---  Accuracy : 0.462184876203537 \n",
      "\n",
      "Waiting += 1\n",
      "\n",
      "Starting epoch 84 / 300\n"
     ]
    },
    {
     "name": "stderr",
     "output_type": "stream",
     "text": [
      "avg train loss: 13.5254: 100%|██████████| 1/1 [00:00<00:00,  2.44it/s]\n",
      "avg val loss: 9.6231: 100%|██████████| 1/1 [00:00<00:00, 12.50it/s]\n"
     ]
    },
    {
     "name": "stdout",
     "output_type": "stream",
     "text": [
      "---  Accuracy : 0.462184876203537 \n",
      "\n",
      "Waiting += 1\n",
      "\n",
      "Starting epoch 85 / 300\n"
     ]
    },
    {
     "name": "stderr",
     "output_type": "stream",
     "text": [
      "avg train loss: 11.0920: 100%|██████████| 1/1 [00:00<00:00,  2.42it/s]\n",
      "avg val loss: 4.0874: 100%|██████████| 1/1 [00:00<00:00, 13.16it/s]\n"
     ]
    },
    {
     "name": "stdout",
     "output_type": "stream",
     "text": [
      "---  Accuracy : 0.5378151535987854 \n",
      "\n",
      "Waiting += 1\n",
      "\n",
      "Starting epoch 86 / 300\n"
     ]
    },
    {
     "name": "stderr",
     "output_type": "stream",
     "text": [
      "avg train loss: 3.2739: 100%|██████████| 1/1 [00:00<00:00,  2.93it/s]\n",
      "avg val loss: 8.6992: 100%|██████████| 1/1 [00:00<00:00, 13.16it/s]\n"
     ]
    },
    {
     "name": "stdout",
     "output_type": "stream",
     "text": [
      "---  Accuracy : 0.5378151535987854 \n",
      "\n",
      "Waiting += 1\n",
      "\n",
      "Starting epoch 87 / 300\n"
     ]
    },
    {
     "name": "stderr",
     "output_type": "stream",
     "text": [
      "avg train loss: 7.0166: 100%|██████████| 1/1 [00:00<00:00,  2.35it/s]\n",
      "avg val loss: 6.4062: 100%|██████████| 1/1 [00:00<00:00, 13.89it/s]\n"
     ]
    },
    {
     "name": "stdout",
     "output_type": "stream",
     "text": [
      "---  Accuracy : 0.5378151535987854 \n",
      "\n",
      "Waiting += 1\n",
      "\n",
      "Starting epoch 88 / 300\n"
     ]
    },
    {
     "name": "stderr",
     "output_type": "stream",
     "text": [
      "avg train loss: 5.1724: 100%|██████████| 1/1 [00:00<00:00,  2.51it/s]\n",
      "avg val loss: 2.3175: 100%|██████████| 1/1 [00:00<00:00, 12.99it/s]\n"
     ]
    },
    {
     "name": "stdout",
     "output_type": "stream",
     "text": [
      "---  Accuracy : 0.462184876203537 \n",
      "\n",
      "Waiting += 1\n",
      "\n",
      "Starting epoch 89 / 300\n"
     ]
    },
    {
     "name": "stderr",
     "output_type": "stream",
     "text": [
      "avg train loss: 2.6163: 100%|██████████| 1/1 [00:00<00:00,  2.82it/s]\n",
      "avg val loss: 0.8659: 100%|██████████| 1/1 [00:00<00:00, 13.16it/s]\n"
     ]
    },
    {
     "name": "stdout",
     "output_type": "stream",
     "text": [
      "---  Accuracy : 0.5378151535987854 \n",
      "\n",
      "Waiting += 1\n",
      "\n",
      "Starting epoch 90 / 300\n"
     ]
    },
    {
     "name": "stderr",
     "output_type": "stream",
     "text": [
      "avg train loss: 0.7683: 100%|██████████| 1/1 [00:00<00:00,  2.51it/s]\n",
      "avg val loss: 1.0236: 100%|██████████| 1/1 [00:00<00:00, 14.71it/s]\n"
     ]
    },
    {
     "name": "stdout",
     "output_type": "stream",
     "text": [
      "---  Accuracy : 0.5378151535987854 \n",
      "\n",
      "Waiting += 1\n",
      "\n",
      "Starting epoch 91 / 300\n"
     ]
    },
    {
     "name": "stderr",
     "output_type": "stream",
     "text": [
      "avg train loss: 0.8676: 100%|██████████| 1/1 [00:00<00:00,  2.72it/s]\n",
      "avg val loss: 2.9639: 100%|██████████| 1/1 [00:00<00:00, 13.89it/s]\n"
     ]
    },
    {
     "name": "stdout",
     "output_type": "stream",
     "text": [
      "---  Accuracy : 0.462184876203537 \n",
      "\n",
      "Waiting += 1\n",
      "\n",
      "Starting epoch 92 / 300\n"
     ]
    },
    {
     "name": "stderr",
     "output_type": "stream",
     "text": [
      "avg train loss: 3.3609: 100%|██████████| 1/1 [00:00<00:00,  2.66it/s]\n",
      "avg val loss: 4.7731: 100%|██████████| 1/1 [00:00<00:00, 14.08it/s]\n"
     ]
    },
    {
     "name": "stdout",
     "output_type": "stream",
     "text": [
      "---  Accuracy : 0.5378151535987854 \n",
      "\n",
      "Waiting += 1\n",
      "\n",
      "Starting epoch 93 / 300\n"
     ]
    },
    {
     "name": "stderr",
     "output_type": "stream",
     "text": [
      "avg train loss: 3.8723: 100%|██████████| 1/1 [00:00<00:00,  2.87it/s]\n",
      "avg val loss: 4.9883: 100%|██████████| 1/1 [00:00<00:00, 12.50it/s]\n"
     ]
    },
    {
     "name": "stdout",
     "output_type": "stream",
     "text": [
      "---  Accuracy : 0.5378151535987854 \n",
      "\n",
      "Waiting += 1\n",
      "\n",
      "Starting epoch 94 / 300\n"
     ]
    },
    {
     "name": "stderr",
     "output_type": "stream",
     "text": [
      "avg train loss: 4.0441: 100%|██████████| 1/1 [00:00<00:00,  2.50it/s]\n",
      "avg val loss: 1.3898: 100%|██████████| 1/1 [00:00<00:00, 14.93it/s]\n"
     ]
    },
    {
     "name": "stdout",
     "output_type": "stream",
     "text": [
      "---  Accuracy : 0.462184876203537 \n",
      "\n",
      "Waiting += 1\n",
      "\n",
      "Starting epoch 95 / 300\n"
     ]
    },
    {
     "name": "stderr",
     "output_type": "stream",
     "text": [
      "avg train loss: 1.5385: 100%|██████████| 1/1 [00:00<00:00,  3.08it/s]\n",
      "avg val loss: 2.2644: 100%|██████████| 1/1 [00:00<00:00, 13.89it/s]\n"
     ]
    },
    {
     "name": "stdout",
     "output_type": "stream",
     "text": [
      "---  Accuracy : 0.5378151535987854 \n",
      "\n",
      "Waiting += 1\n",
      "\n",
      "Starting epoch 96 / 300\n"
     ]
    },
    {
     "name": "stderr",
     "output_type": "stream",
     "text": [
      "avg train loss: 1.8368: 100%|██████████| 1/1 [00:00<00:00,  2.54it/s]\n",
      "avg val loss: 1.2012: 100%|██████████| 1/1 [00:00<00:00, 14.93it/s]\n"
     ]
    },
    {
     "name": "stdout",
     "output_type": "stream",
     "text": [
      "---  Accuracy : 0.462184876203537 \n",
      "\n",
      "Waiting += 1\n",
      "\n",
      "Starting epoch 97 / 300\n"
     ]
    },
    {
     "name": "stderr",
     "output_type": "stream",
     "text": [
      "avg train loss: 1.3274: 100%|██████████| 1/1 [00:00<00:00,  2.96it/s]\n",
      "avg val loss: 4.3963: 100%|██████████| 1/1 [00:00<00:00, 13.70it/s]\n"
     ]
    },
    {
     "name": "stdout",
     "output_type": "stream",
     "text": [
      "---  Accuracy : 0.5378151535987854 \n",
      "\n",
      "Waiting += 1\n",
      "\n",
      "Starting epoch 98 / 300\n"
     ]
    },
    {
     "name": "stderr",
     "output_type": "stream",
     "text": [
      "avg train loss: 3.5550: 100%|██████████| 1/1 [00:00<00:00,  3.15it/s]\n",
      "avg val loss: 2.7997: 100%|██████████| 1/1 [00:00<00:00, 13.89it/s]\n"
     ]
    },
    {
     "name": "stdout",
     "output_type": "stream",
     "text": [
      "---  Accuracy : 0.5378151535987854 \n",
      "\n",
      "Waiting += 1\n",
      "\n",
      "Starting epoch 99 / 300\n"
     ]
    },
    {
     "name": "stderr",
     "output_type": "stream",
     "text": [
      "avg train loss: 2.2600: 100%|██████████| 1/1 [00:00<00:00,  2.48it/s]\n",
      "avg val loss: 5.7619: 100%|██████████| 1/1 [00:00<00:00, 13.16it/s]\n"
     ]
    },
    {
     "name": "stdout",
     "output_type": "stream",
     "text": [
      "---  Accuracy : 0.462184876203537 \n",
      "\n",
      "Waiting += 1\n",
      "\n",
      "Starting epoch 100 / 300\n"
     ]
    },
    {
     "name": "stderr",
     "output_type": "stream",
     "text": [
      "avg train loss: 6.6142: 100%|██████████| 1/1 [00:00<00:00,  2.82it/s]\n",
      "avg val loss: 1.6228: 100%|██████████| 1/1 [00:00<00:00, 13.51it/s]\n"
     ]
    },
    {
     "name": "stdout",
     "output_type": "stream",
     "text": [
      "---  Accuracy : 0.462184876203537 \n",
      "\n",
      "Waiting += 1\n",
      "\n",
      "Starting epoch 101 / 300\n"
     ]
    },
    {
     "name": "stderr",
     "output_type": "stream",
     "text": [
      "avg train loss: 1.8094: 100%|██████████| 1/1 [00:00<00:00,  2.87it/s]\n",
      "avg val loss: 11.2328: 100%|██████████| 1/1 [00:00<00:00, 13.51it/s]\n"
     ]
    },
    {
     "name": "stdout",
     "output_type": "stream",
     "text": [
      "---  Accuracy : 0.5378151535987854 \n",
      "\n",
      "Waiting += 1\n",
      "\n",
      "Starting epoch 102 / 300\n"
     ]
    },
    {
     "name": "stderr",
     "output_type": "stream",
     "text": [
      "avg train loss: 9.0861: 100%|██████████| 1/1 [00:00<00:00,  2.73it/s]\n",
      "avg val loss: 16.1750: 100%|██████████| 1/1 [00:00<00:00, 13.70it/s]\n"
     ]
    },
    {
     "name": "stdout",
     "output_type": "stream",
     "text": [
      "---  Accuracy : 0.5378151535987854 \n",
      "\n",
      "Waiting += 1\n",
      "\n",
      "Starting epoch 103 / 300\n"
     ]
    },
    {
     "name": "stderr",
     "output_type": "stream",
     "text": [
      "avg train loss: 13.0912: 100%|██████████| 1/1 [00:00<00:00,  2.77it/s]\n",
      "avg val loss: 14.1485: 100%|██████████| 1/1 [00:00<00:00, 14.08it/s]\n"
     ]
    },
    {
     "name": "stdout",
     "output_type": "stream",
     "text": [
      "---  Accuracy : 0.5378151535987854 \n",
      "\n",
      "Waiting += 1\n",
      "\n",
      "Starting epoch 104 / 300\n"
     ]
    },
    {
     "name": "stderr",
     "output_type": "stream",
     "text": [
      "avg train loss: 11.4726: 100%|██████████| 1/1 [00:00<00:00,  2.66it/s]\n",
      "avg val loss: 6.2417: 100%|██████████| 1/1 [00:00<00:00, 13.16it/s]\n"
     ]
    },
    {
     "name": "stdout",
     "output_type": "stream",
     "text": [
      "---  Accuracy : 0.5378151535987854 \n",
      "\n",
      "Waiting += 1\n",
      "\n",
      "Starting epoch 105 / 300\n"
     ]
    },
    {
     "name": "stderr",
     "output_type": "stream",
     "text": [
      "avg train loss: 5.0945: 100%|██████████| 1/1 [00:00<00:00,  2.79it/s]\n",
      "avg val loss: 8.1202: 100%|██████████| 1/1 [00:00<00:00, 13.16it/s]\n"
     ]
    },
    {
     "name": "stdout",
     "output_type": "stream",
     "text": [
      "---  Accuracy : 0.462184876203537 \n",
      "\n",
      "Waiting += 1\n",
      "\n",
      "Starting epoch 106 / 300\n"
     ]
    },
    {
     "name": "stderr",
     "output_type": "stream",
     "text": [
      "avg train loss: 9.3529: 100%|██████████| 1/1 [00:00<00:00,  2.80it/s]\n",
      "avg val loss: 9.7789: 100%|██████████| 1/1 [00:00<00:00, 12.99it/s]\n"
     ]
    },
    {
     "name": "stdout",
     "output_type": "stream",
     "text": [
      "---  Accuracy : 0.462184876203537 \n",
      "\n",
      "Waiting += 1\n",
      "\n",
      "Starting epoch 107 / 300\n"
     ]
    },
    {
     "name": "stderr",
     "output_type": "stream",
     "text": [
      "avg train loss: 11.2778: 100%|██████████| 1/1 [00:00<00:00,  3.11it/s]\n",
      "avg val loss: 0.8979: 100%|██████████| 1/1 [00:00<00:00, 13.51it/s]\n"
     ]
    },
    {
     "name": "stdout",
     "output_type": "stream",
     "text": [
      "---  Accuracy : 0.5378151535987854 \n",
      "\n",
      "Waiting += 1\n",
      "\n",
      "Starting epoch 108 / 300\n"
     ]
    },
    {
     "name": "stderr",
     "output_type": "stream",
     "text": [
      "avg train loss: 0.7814: 100%|██████████| 1/1 [00:00<00:00,  2.61it/s]\n",
      "avg val loss: 5.6877: 100%|██████████| 1/1 [00:00<00:00, 14.08it/s]\n"
     ]
    },
    {
     "name": "stdout",
     "output_type": "stream",
     "text": [
      "---  Accuracy : 0.5378151535987854 \n",
      "\n",
      "Waiting += 1\n",
      "\n",
      "Starting epoch 109 / 300\n"
     ]
    },
    {
     "name": "stderr",
     "output_type": "stream",
     "text": [
      "avg train loss: 4.6137: 100%|██████████| 1/1 [00:00<00:00,  2.54it/s]\n",
      "avg val loss: 3.8024: 100%|██████████| 1/1 [00:00<00:00, 13.16it/s]\n"
     ]
    },
    {
     "name": "stdout",
     "output_type": "stream",
     "text": [
      "---  Accuracy : 0.5378151535987854 \n",
      "\n",
      "Waiting += 1\n",
      "\n",
      "Starting epoch 110 / 300\n"
     ]
    },
    {
     "name": "stderr",
     "output_type": "stream",
     "text": [
      "avg train loss: 3.0777: 100%|██████████| 1/1 [00:00<00:00,  2.67it/s]\n",
      "avg val loss: 5.0983: 100%|██████████| 1/1 [00:00<00:00, 13.51it/s]\n"
     ]
    },
    {
     "name": "stdout",
     "output_type": "stream",
     "text": [
      "---  Accuracy : 0.462184876203537 \n",
      "\n",
      "Waiting += 1\n",
      "\n",
      "Starting epoch 111 / 300\n"
     ]
    },
    {
     "name": "stderr",
     "output_type": "stream",
     "text": [
      "avg train loss: 5.8910: 100%|██████████| 1/1 [00:00<00:00,  2.55it/s]\n",
      "avg val loss: 1.3056: 100%|██████████| 1/1 [00:00<00:00, 12.82it/s]\n"
     ]
    },
    {
     "name": "stdout",
     "output_type": "stream",
     "text": [
      "---  Accuracy : 0.462184876203537 \n",
      "\n",
      "Waiting += 1\n",
      "\n",
      "Starting epoch 112 / 300\n"
     ]
    },
    {
     "name": "stderr",
     "output_type": "stream",
     "text": [
      "avg train loss: 1.4967: 100%|██████████| 1/1 [00:00<00:00,  2.77it/s]\n",
      "avg val loss: 10.9889: 100%|██████████| 1/1 [00:00<00:00, 14.08it/s]\n"
     ]
    },
    {
     "name": "stdout",
     "output_type": "stream",
     "text": [
      "---  Accuracy : 0.5378151535987854 \n",
      "\n",
      "Waiting += 1\n",
      "\n",
      "Starting epoch 113 / 300\n"
     ]
    },
    {
     "name": "stderr",
     "output_type": "stream",
     "text": [
      "avg train loss: 8.8800: 100%|██████████| 1/1 [00:00<00:00,  2.69it/s]\n",
      "avg val loss: 15.3021: 100%|██████████| 1/1 [00:00<00:00, 14.08it/s]\n"
     ]
    },
    {
     "name": "stdout",
     "output_type": "stream",
     "text": [
      "---  Accuracy : 0.5378151535987854 \n",
      "\n",
      "Waiting += 1\n",
      "\n",
      "Starting epoch 114 / 300\n"
     ]
    },
    {
     "name": "stderr",
     "output_type": "stream",
     "text": [
      "avg train loss: 12.3603: 100%|██████████| 1/1 [00:00<00:00,  2.69it/s]\n",
      "avg val loss: 12.6652: 100%|██████████| 1/1 [00:00<00:00, 12.66it/s]\n"
     ]
    },
    {
     "name": "stdout",
     "output_type": "stream",
     "text": [
      "---  Accuracy : 0.5378151535987854 \n",
      "\n",
      "Waiting += 1\n",
      "\n",
      "Starting epoch 115 / 300\n"
     ]
    },
    {
     "name": "stderr",
     "output_type": "stream",
     "text": [
      "avg train loss: 10.2370: 100%|██████████| 1/1 [00:00<00:00,  2.17it/s]\n",
      "avg val loss: 3.8124: 100%|██████████| 1/1 [00:00<00:00, 12.82it/s]\n"
     ]
    },
    {
     "name": "stdout",
     "output_type": "stream",
     "text": [
      "---  Accuracy : 0.5378151535987854 \n",
      "\n",
      "Waiting += 1\n",
      "\n",
      "Starting epoch 116 / 300\n"
     ]
    },
    {
     "name": "stderr",
     "output_type": "stream",
     "text": [
      "avg train loss: 3.0789: 100%|██████████| 1/1 [00:00<00:00,  2.71it/s]\n",
      "avg val loss: 12.2067: 100%|██████████| 1/1 [00:00<00:00, 14.08it/s]\n"
     ]
    },
    {
     "name": "stdout",
     "output_type": "stream",
     "text": [
      "---  Accuracy : 0.462184876203537 \n",
      "\n",
      "Waiting += 1\n",
      "\n",
      "Starting epoch 117 / 300\n"
     ]
    },
    {
     "name": "stderr",
     "output_type": "stream",
     "text": [
      "avg train loss: 14.1411: 100%|██████████| 1/1 [00:00<00:00,  2.64it/s]\n",
      "avg val loss: 14.7125: 100%|██████████| 1/1 [00:00<00:00, 14.08it/s]\n"
     ]
    },
    {
     "name": "stdout",
     "output_type": "stream",
     "text": [
      "---  Accuracy : 0.462184876203537 \n",
      "\n",
      "Waiting += 1\n",
      "\n",
      "Starting epoch 118 / 300\n"
     ]
    },
    {
     "name": "stderr",
     "output_type": "stream",
     "text": [
      "avg train loss: 17.0347: 100%|██████████| 1/1 [00:00<00:00,  2.67it/s]\n",
      "avg val loss: 4.4487: 100%|██████████| 1/1 [00:00<00:00, 13.33it/s]\n"
     ]
    },
    {
     "name": "stdout",
     "output_type": "stream",
     "text": [
      "---  Accuracy : 0.462184876203537 \n",
      "\n",
      "Waiting += 1\n",
      "\n",
      "Starting epoch 119 / 300\n"
     ]
    },
    {
     "name": "stderr",
     "output_type": "stream",
     "text": [
      "avg train loss: 5.1917: 100%|██████████| 1/1 [00:00<00:00,  2.90it/s]\n",
      "avg val loss: 14.3731: 100%|██████████| 1/1 [00:00<00:00, 13.51it/s]\n"
     ]
    },
    {
     "name": "stdout",
     "output_type": "stream",
     "text": [
      "---  Accuracy : 0.5378151535987854 \n",
      "\n",
      "Waiting += 1\n",
      "\n",
      "Starting epoch 120 / 300\n"
     ]
    },
    {
     "name": "stderr",
     "output_type": "stream",
     "text": [
      "avg train loss: 11.5998: 100%|██████████| 1/1 [00:00<00:00,  3.08it/s]\n",
      "avg val loss: 24.4211: 100%|██████████| 1/1 [00:00<00:00, 12.05it/s]\n"
     ]
    },
    {
     "name": "stdout",
     "output_type": "stream",
     "text": [
      "---  Accuracy : 0.5378151535987854 \n",
      "\n",
      "Waiting += 1\n",
      "\n",
      "Starting epoch 121 / 300\n"
     ]
    },
    {
     "name": "stderr",
     "output_type": "stream",
     "text": [
      "avg train loss: 19.7134: 100%|██████████| 1/1 [00:00<00:00,  2.87it/s]\n",
      "avg val loss: 27.0209: 100%|██████████| 1/1 [00:00<00:00, 12.66it/s]\n"
     ]
    },
    {
     "name": "stdout",
     "output_type": "stream",
     "text": [
      "---  Accuracy : 0.5378151535987854 \n",
      "\n",
      "Waiting += 1\n",
      "\n",
      "Starting epoch 122 / 300\n"
     ]
    },
    {
     "name": "stderr",
     "output_type": "stream",
     "text": [
      "avg train loss: 21.8385: 100%|██████████| 1/1 [00:00<00:00,  2.06it/s]\n",
      "avg val loss: 23.4367: 100%|██████████| 1/1 [00:00<00:00, 12.19it/s]\n"
     ]
    },
    {
     "name": "stdout",
     "output_type": "stream",
     "text": [
      "---  Accuracy : 0.5378151535987854 \n",
      "\n",
      "Waiting += 1\n",
      "\n",
      "Starting epoch 123 / 300\n"
     ]
    },
    {
     "name": "stderr",
     "output_type": "stream",
     "text": [
      "avg train loss: 18.9183: 100%|██████████| 1/1 [00:00<00:00,  3.10it/s]\n",
      "avg val loss: 13.7446: 100%|██████████| 1/1 [00:00<00:00, 13.16it/s]\n"
     ]
    },
    {
     "name": "stdout",
     "output_type": "stream",
     "text": [
      "---  Accuracy : 0.5378151535987854 \n",
      "\n",
      "Waiting += 1\n",
      "\n",
      "Starting epoch 124 / 300\n"
     ]
    },
    {
     "name": "stderr",
     "output_type": "stream",
     "text": [
      "avg train loss: 11.0869: 100%|██████████| 1/1 [00:00<00:00,  3.10it/s]\n",
      "avg val loss: 1.7194: 100%|██████████| 1/1 [00:00<00:00, 13.33it/s]\n"
     ]
    },
    {
     "name": "stdout",
     "output_type": "stream",
     "text": [
      "---  Accuracy : 0.462184876203537 \n",
      "\n",
      "Waiting += 1\n",
      "\n",
      "Starting epoch 125 / 300\n"
     ]
    },
    {
     "name": "stderr",
     "output_type": "stream",
     "text": [
      "avg train loss: 1.9858: 100%|██████████| 1/1 [00:00<00:00,  2.84it/s]\n",
      "avg val loss: 6.1437: 100%|██████████| 1/1 [00:00<00:00, 13.70it/s]\n"
     ]
    },
    {
     "name": "stdout",
     "output_type": "stream",
     "text": [
      "---  Accuracy : 0.462184876203537 \n",
      "\n",
      "Waiting += 1\n",
      "\n",
      "Starting epoch 126 / 300\n"
     ]
    },
    {
     "name": "stderr",
     "output_type": "stream",
     "text": [
      "avg train loss: 7.0908: 100%|██████████| 1/1 [00:00<00:00,  2.89it/s]\n",
      "avg val loss: 1.9912: 100%|██████████| 1/1 [00:00<00:00, 13.89it/s]\n"
     ]
    },
    {
     "name": "stdout",
     "output_type": "stream",
     "text": [
      "---  Accuracy : 0.5378151535987854 \n",
      "\n",
      "Waiting += 1\n",
      "\n",
      "Starting epoch 127 / 300\n"
     ]
    },
    {
     "name": "stderr",
     "output_type": "stream",
     "text": [
      "avg train loss: 1.5690: 100%|██████████| 1/1 [00:00<00:00,  2.65it/s]\n",
      "avg val loss: 2.3471: 100%|██████████| 1/1 [00:00<00:00, 13.51it/s]\n"
     ]
    },
    {
     "name": "stdout",
     "output_type": "stream",
     "text": [
      "---  Accuracy : 0.5378151535987854 \n",
      "\n",
      "Waiting += 1\n",
      "\n",
      "Starting epoch 128 / 300\n"
     ]
    },
    {
     "name": "stderr",
     "output_type": "stream",
     "text": [
      "avg train loss: 1.8508: 100%|██████████| 1/1 [00:00<00:00,  2.74it/s]\n",
      "avg val loss: 4.1698: 100%|██████████| 1/1 [00:00<00:00, 13.70it/s]\n"
     ]
    },
    {
     "name": "stdout",
     "output_type": "stream",
     "text": [
      "---  Accuracy : 0.462184876203537 \n",
      "\n",
      "Waiting += 1\n",
      "\n",
      "Starting epoch 129 / 300\n"
     ]
    },
    {
     "name": "stderr",
     "output_type": "stream",
     "text": [
      "avg train loss: 4.8168: 100%|██████████| 1/1 [00:00<00:00,  2.79it/s]\n",
      "avg val loss: 1.8356: 100%|██████████| 1/1 [00:00<00:00, 13.70it/s]\n"
     ]
    },
    {
     "name": "stdout",
     "output_type": "stream",
     "text": [
      "---  Accuracy : 0.5378151535987854 \n",
      "\n",
      "Waiting += 1\n",
      "\n",
      "Starting epoch 130 / 300\n"
     ]
    },
    {
     "name": "stderr",
     "output_type": "stream",
     "text": [
      "avg train loss: 1.4274: 100%|██████████| 1/1 [00:00<00:00,  3.09it/s]\n",
      "avg val loss: 0.9138: 100%|██████████| 1/1 [00:00<00:00, 12.99it/s]\n"
     ]
    },
    {
     "name": "stdout",
     "output_type": "stream",
     "text": [
      "---  Accuracy : 0.5462185144424438 \n",
      "\n",
      "Waiting += 1\n",
      "\n",
      "Starting epoch 131 / 300\n"
     ]
    },
    {
     "name": "stderr",
     "output_type": "stream",
     "text": [
      "avg train loss: 0.7412: 100%|██████████| 1/1 [00:00<00:00,  2.63it/s]\n",
      "avg val loss: 3.3900: 100%|██████████| 1/1 [00:00<00:00, 13.16it/s]\n"
     ]
    },
    {
     "name": "stdout",
     "output_type": "stream",
     "text": [
      "---  Accuracy : 0.462184876203537 \n",
      "\n",
      "Waiting += 1\n",
      "\n",
      "Starting epoch 132 / 300\n"
     ]
    },
    {
     "name": "stderr",
     "output_type": "stream",
     "text": [
      "avg train loss: 3.9045: 100%|██████████| 1/1 [00:00<00:00,  3.06it/s]\n",
      "avg val loss: 4.7397: 100%|██████████| 1/1 [00:00<00:00, 13.89it/s]\n"
     ]
    },
    {
     "name": "stdout",
     "output_type": "stream",
     "text": [
      "---  Accuracy : 0.5378151535987854 \n",
      "\n",
      "Waiting += 1\n",
      "\n",
      "Starting epoch 133 / 300\n"
     ]
    },
    {
     "name": "stderr",
     "output_type": "stream",
     "text": [
      "avg train loss: 3.7640: 100%|██████████| 1/1 [00:00<00:00,  3.12it/s]\n",
      "avg val loss: 5.0189: 100%|██████████| 1/1 [00:00<00:00, 14.29it/s]\n"
     ]
    },
    {
     "name": "stdout",
     "output_type": "stream",
     "text": [
      "---  Accuracy : 0.5378151535987854 \n",
      "\n",
      "Waiting += 1\n",
      "\n",
      "Starting epoch 134 / 300\n"
     ]
    },
    {
     "name": "stderr",
     "output_type": "stream",
     "text": [
      "avg train loss: 4.0033: 100%|██████████| 1/1 [00:00<00:00,  2.71it/s]\n",
      "avg val loss: 1.5589: 100%|██████████| 1/1 [00:00<00:00, 13.89it/s]\n"
     ]
    },
    {
     "name": "stdout",
     "output_type": "stream",
     "text": [
      "---  Accuracy : 0.462184876203537 \n",
      "\n",
      "Waiting += 1\n",
      "\n",
      "Starting epoch 135 / 300\n"
     ]
    },
    {
     "name": "stderr",
     "output_type": "stream",
     "text": [
      "avg train loss: 1.7998: 100%|██████████| 1/1 [00:00<00:00,  2.60it/s]\n",
      "avg val loss: 2.9756: 100%|██████████| 1/1 [00:00<00:00, 14.29it/s]\n"
     ]
    },
    {
     "name": "stdout",
     "output_type": "stream",
     "text": [
      "---  Accuracy : 0.5378151535987854 \n",
      "\n",
      "Waiting += 1\n",
      "\n",
      "Starting epoch 136 / 300\n"
     ]
    },
    {
     "name": "stderr",
     "output_type": "stream",
     "text": [
      "avg train loss: 2.3664: 100%|██████████| 1/1 [00:00<00:00,  2.75it/s]\n",
      "avg val loss: 0.7320: 100%|██████████| 1/1 [00:00<00:00, 14.08it/s]\n"
     ]
    },
    {
     "name": "stdout",
     "output_type": "stream",
     "text": [
      "---  Accuracy : 0.529411792755127 \n",
      "\n",
      "\n",
      "best val loss 0.7388 -> 0.7320\n",
      "\n",
      "Starting epoch 137 / 300\n"
     ]
    },
    {
     "name": "stderr",
     "output_type": "stream",
     "text": [
      "avg train loss: 0.6734: 100%|██████████| 1/1 [00:00<00:00,  2.54it/s]\n",
      "avg val loss: 2.1788: 100%|██████████| 1/1 [00:00<00:00, 13.51it/s]\n"
     ]
    },
    {
     "name": "stdout",
     "output_type": "stream",
     "text": [
      "---  Accuracy : 0.462184876203537 \n",
      "\n",
      "Waiting += 1\n",
      "\n",
      "Starting epoch 138 / 300\n"
     ]
    },
    {
     "name": "stderr",
     "output_type": "stream",
     "text": [
      "avg train loss: 2.5279: 100%|██████████| 1/1 [00:00<00:00,  2.87it/s]\n",
      "avg val loss: 7.0295: 100%|██████████| 1/1 [00:00<00:00, 14.08it/s]\n"
     ]
    },
    {
     "name": "stdout",
     "output_type": "stream",
     "text": [
      "---  Accuracy : 0.5378151535987854 \n",
      "\n",
      "Waiting += 1\n",
      "\n",
      "Starting epoch 139 / 300\n"
     ]
    },
    {
     "name": "stderr",
     "output_type": "stream",
     "text": [
      "avg train loss: 5.6225: 100%|██████████| 1/1 [00:00<00:00,  3.18it/s]\n",
      "avg val loss: 8.3248: 100%|██████████| 1/1 [00:00<00:00, 11.90it/s]\n"
     ]
    },
    {
     "name": "stdout",
     "output_type": "stream",
     "text": [
      "---  Accuracy : 0.5378151535987854 \n",
      "\n",
      "Waiting += 1\n",
      "\n",
      "Starting epoch 140 / 300\n"
     ]
    },
    {
     "name": "stderr",
     "output_type": "stream",
     "text": [
      "avg train loss: 6.6847: 100%|██████████| 1/1 [00:00<00:00,  3.17it/s]\n",
      "avg val loss: 2.8469: 100%|██████████| 1/1 [00:00<00:00, 13.70it/s]\n"
     ]
    },
    {
     "name": "stdout",
     "output_type": "stream",
     "text": [
      "---  Accuracy : 0.5378151535987854 \n",
      "\n",
      "Waiting += 1\n",
      "\n",
      "Starting epoch 141 / 300\n"
     ]
    },
    {
     "name": "stderr",
     "output_type": "stream",
     "text": [
      "avg train loss: 2.2610: 100%|██████████| 1/1 [00:00<00:00,  2.65it/s]\n",
      "avg val loss: 10.1355: 100%|██████████| 1/1 [00:00<00:00, 13.51it/s]\n"
     ]
    },
    {
     "name": "stdout",
     "output_type": "stream",
     "text": [
      "---  Accuracy : 0.462184876203537 \n",
      "\n",
      "Waiting += 1\n",
      "\n",
      "Starting epoch 142 / 300\n"
     ]
    },
    {
     "name": "stderr",
     "output_type": "stream",
     "text": [
      "avg train loss: 11.7025: 100%|██████████| 1/1 [00:00<00:00,  2.79it/s]\n",
      "avg val loss: 9.3204: 100%|██████████| 1/1 [00:00<00:00, 13.51it/s]\n"
     ]
    },
    {
     "name": "stdout",
     "output_type": "stream",
     "text": [
      "---  Accuracy : 0.462184876203537 \n",
      "\n",
      "Waiting += 1\n",
      "\n",
      "Starting epoch 143 / 300\n"
     ]
    },
    {
     "name": "stderr",
     "output_type": "stream",
     "text": [
      "avg train loss: 10.7754: 100%|██████████| 1/1 [00:00<00:00,  2.54it/s]\n",
      "avg val loss: 3.6580: 100%|██████████| 1/1 [00:00<00:00, 14.08it/s]\n"
     ]
    },
    {
     "name": "stdout",
     "output_type": "stream",
     "text": [
      "---  Accuracy : 0.5378151535987854 \n",
      "\n",
      "Waiting += 1\n",
      "\n",
      "Starting epoch 144 / 300\n"
     ]
    },
    {
     "name": "stderr",
     "output_type": "stream",
     "text": [
      "avg train loss: 2.9087: 100%|██████████| 1/1 [00:00<00:00,  2.54it/s]\n",
      "avg val loss: 7.4928: 100%|██████████| 1/1 [00:00<00:00, 14.08it/s]\n"
     ]
    },
    {
     "name": "stdout",
     "output_type": "stream",
     "text": [
      "---  Accuracy : 0.5378151535987854 \n",
      "\n",
      "Waiting += 1\n",
      "\n",
      "Starting epoch 145 / 300\n"
     ]
    },
    {
     "name": "stderr",
     "output_type": "stream",
     "text": [
      "avg train loss: 6.0159: 100%|██████████| 1/1 [00:00<00:00,  2.62it/s]\n",
      "avg val loss: 4.3517: 100%|██████████| 1/1 [00:00<00:00, 14.29it/s]\n"
     ]
    },
    {
     "name": "stdout",
     "output_type": "stream",
     "text": [
      "---  Accuracy : 0.5378151535987854 \n",
      "\n",
      "Waiting += 1\n",
      "\n",
      "Starting epoch 146 / 300\n"
     ]
    },
    {
     "name": "stderr",
     "output_type": "stream",
     "text": [
      "avg train loss: 3.4768: 100%|██████████| 1/1 [00:00<00:00,  2.65it/s]\n",
      "avg val loss: 5.8755: 100%|██████████| 1/1 [00:00<00:00, 13.89it/s]\n"
     ]
    },
    {
     "name": "stdout",
     "output_type": "stream",
     "text": [
      "---  Accuracy : 0.462184876203537 \n",
      "\n",
      "Waiting += 1\n",
      "\n",
      "Starting epoch 147 / 300\n"
     ]
    },
    {
     "name": "stderr",
     "output_type": "stream",
     "text": [
      "avg train loss: 6.7785: 100%|██████████| 1/1 [00:00<00:00,  2.51it/s]\n",
      "avg val loss: 3.0043: 100%|██████████| 1/1 [00:00<00:00, 12.99it/s]\n"
     ]
    },
    {
     "name": "stdout",
     "output_type": "stream",
     "text": [
      "---  Accuracy : 0.462184876203537 \n",
      "\n",
      "Waiting += 1\n",
      "\n",
      "Starting epoch 148 / 300\n"
     ]
    },
    {
     "name": "stderr",
     "output_type": "stream",
     "text": [
      "avg train loss: 3.4274: 100%|██████████| 1/1 [00:00<00:00,  2.43it/s]\n",
      "avg val loss: 10.4542: 100%|██████████| 1/1 [00:00<00:00, 13.70it/s]\n"
     ]
    },
    {
     "name": "stdout",
     "output_type": "stream",
     "text": [
      "---  Accuracy : 0.5378151535987854 \n",
      "\n",
      "Waiting += 1\n",
      "\n",
      "Starting epoch 149 / 300\n"
     ]
    },
    {
     "name": "stderr",
     "output_type": "stream",
     "text": [
      "avg train loss: 8.4019: 100%|██████████| 1/1 [00:00<00:00,  2.76it/s]\n",
      "avg val loss: 15.5624: 100%|██████████| 1/1 [00:00<00:00, 12.05it/s]\n"
     ]
    },
    {
     "name": "stdout",
     "output_type": "stream",
     "text": [
      "---  Accuracy : 0.5378151535987854 \n",
      "\n",
      "Waiting += 1\n",
      "\n",
      "Starting epoch 150 / 300\n"
     ]
    },
    {
     "name": "stderr",
     "output_type": "stream",
     "text": [
      "avg train loss: 12.5284: 100%|██████████| 1/1 [00:00<00:00,  2.83it/s]\n",
      "avg val loss: 13.7155: 100%|██████████| 1/1 [00:00<00:00, 13.16it/s]\n"
     ]
    },
    {
     "name": "stdout",
     "output_type": "stream",
     "text": [
      "---  Accuracy : 0.5378151535987854 \n",
      "\n",
      "Waiting += 1\n",
      "\n",
      "Starting epoch 151 / 300\n"
     ]
    },
    {
     "name": "stderr",
     "output_type": "stream",
     "text": [
      "avg train loss: 11.0171: 100%|██████████| 1/1 [00:00<00:00,  2.99it/s]\n",
      "avg val loss: 5.6289: 100%|██████████| 1/1 [00:00<00:00, 14.29it/s]\n"
     ]
    },
    {
     "name": "stdout",
     "output_type": "stream",
     "text": [
      "---  Accuracy : 0.5378151535987854 \n",
      "\n",
      "Waiting += 1\n",
      "\n",
      "Starting epoch 152 / 300\n"
     ]
    },
    {
     "name": "stderr",
     "output_type": "stream",
     "text": [
      "avg train loss: 4.4714: 100%|██████████| 1/1 [00:00<00:00,  3.15it/s]\n",
      "avg val loss: 9.5516: 100%|██████████| 1/1 [00:00<00:00, 13.33it/s]\n"
     ]
    },
    {
     "name": "stdout",
     "output_type": "stream",
     "text": [
      "---  Accuracy : 0.462184876203537 \n",
      "\n",
      "Waiting += 1\n",
      "\n",
      "Starting epoch 153 / 300\n"
     ]
    },
    {
     "name": "stderr",
     "output_type": "stream",
     "text": [
      "avg train loss: 11.0837: 100%|██████████| 1/1 [00:00<00:00,  3.07it/s]\n",
      "avg val loss: 11.3184: 100%|██████████| 1/1 [00:00<00:00, 13.51it/s]\n"
     ]
    },
    {
     "name": "stdout",
     "output_type": "stream",
     "text": [
      "---  Accuracy : 0.462184876203537 \n",
      "\n",
      "Waiting += 1\n",
      "\n",
      "Starting epoch 154 / 300\n"
     ]
    },
    {
     "name": "stderr",
     "output_type": "stream",
     "text": [
      "avg train loss: 13.1351: 100%|██████████| 1/1 [00:00<00:00,  2.66it/s]\n",
      "avg val loss: 0.9939: 100%|██████████| 1/1 [00:00<00:00, 13.70it/s]\n"
     ]
    },
    {
     "name": "stdout",
     "output_type": "stream",
     "text": [
      "---  Accuracy : 0.462184876203537 \n",
      "\n",
      "Waiting += 1\n",
      "\n",
      "Starting epoch 155 / 300\n"
     ]
    },
    {
     "name": "stderr",
     "output_type": "stream",
     "text": [
      "avg train loss: 1.1448: 100%|██████████| 1/1 [00:00<00:00,  2.71it/s]\n",
      "avg val loss: 14.4349: 100%|██████████| 1/1 [00:00<00:00, 12.99it/s]\n"
     ]
    },
    {
     "name": "stdout",
     "output_type": "stream",
     "text": [
      "---  Accuracy : 0.5378151535987854 \n",
      "\n",
      "Waiting += 1\n",
      "\n",
      "Starting epoch 156 / 300\n"
     ]
    },
    {
     "name": "stderr",
     "output_type": "stream",
     "text": [
      "avg train loss: 11.6018: 100%|██████████| 1/1 [00:00<00:00,  2.54it/s]\n",
      "avg val loss: 21.4834: 100%|██████████| 1/1 [00:00<00:00, 13.33it/s]\n"
     ]
    },
    {
     "name": "stdout",
     "output_type": "stream",
     "text": [
      "---  Accuracy : 0.5378151535987854 \n",
      "\n",
      "Waiting += 1\n",
      "\n",
      "Starting epoch 157 / 300\n"
     ]
    },
    {
     "name": "stderr",
     "output_type": "stream",
     "text": [
      "avg train loss: 17.3104: 100%|██████████| 1/1 [00:00<00:00,  2.33it/s]\n",
      "avg val loss: 21.1978: 100%|██████████| 1/1 [00:00<00:00, 12.50it/s]\n"
     ]
    },
    {
     "name": "stdout",
     "output_type": "stream",
     "text": [
      "---  Accuracy : 0.5378151535987854 \n",
      "\n",
      "Waiting += 1\n",
      "\n",
      "Starting epoch 158 / 300\n"
     ]
    },
    {
     "name": "stderr",
     "output_type": "stream",
     "text": [
      "avg train loss: 17.0924: 100%|██████████| 1/1 [00:00<00:00,  2.72it/s]\n",
      "avg val loss: 14.5299: 100%|██████████| 1/1 [00:00<00:00, 13.51it/s]\n"
     ]
    },
    {
     "name": "stdout",
     "output_type": "stream",
     "text": [
      "---  Accuracy : 0.5378151535987854 \n",
      "\n",
      "Waiting += 1\n",
      "\n",
      "Starting epoch 159 / 300\n"
     ]
    },
    {
     "name": "stderr",
     "output_type": "stream",
     "text": [
      "avg train loss: 11.6908: 100%|██████████| 1/1 [00:00<00:00,  2.42it/s]\n",
      "avg val loss: 1.9000: 100%|██████████| 1/1 [00:00<00:00, 13.51it/s]\n"
     ]
    },
    {
     "name": "stdout",
     "output_type": "stream",
     "text": [
      "---  Accuracy : 0.5378151535987854 \n",
      "\n",
      "Waiting += 1\n",
      "\n",
      "Starting epoch 160 / 300\n"
     ]
    },
    {
     "name": "stderr",
     "output_type": "stream",
     "text": [
      "avg train loss: 1.4984: 100%|██████████| 1/1 [00:00<00:00,  2.40it/s]\n",
      "avg val loss: 18.4747: 100%|██████████| 1/1 [00:00<00:00, 13.33it/s]\n"
     ]
    },
    {
     "name": "stdout",
     "output_type": "stream",
     "text": [
      "---  Accuracy : 0.462184876203537 \n",
      "\n",
      "Waiting += 1\n",
      "\n",
      "Starting epoch 161 / 300\n"
     ]
    },
    {
     "name": "stderr",
     "output_type": "stream",
     "text": [
      "avg train loss: 21.2651: 100%|██████████| 1/1 [00:00<00:00,  2.39it/s]\n",
      "avg val loss: 24.1222: 100%|██████████| 1/1 [00:00<00:00, 12.82it/s]\n"
     ]
    },
    {
     "name": "stdout",
     "output_type": "stream",
     "text": [
      "---  Accuracy : 0.462184876203537 \n",
      "\n",
      "Waiting += 1\n",
      "\n",
      "Starting epoch 162 / 300\n"
     ]
    },
    {
     "name": "stderr",
     "output_type": "stream",
     "text": [
      "avg train loss: 27.7773: 100%|██████████| 1/1 [00:00<00:00,  2.11it/s]\n",
      "avg val loss: 16.2738: 100%|██████████| 1/1 [00:00<00:00, 12.99it/s]\n"
     ]
    },
    {
     "name": "stdout",
     "output_type": "stream",
     "text": [
      "---  Accuracy : 0.462184876203537 \n",
      "\n",
      "Waiting += 1\n",
      "\n",
      "Starting epoch 163 / 300\n"
     ]
    },
    {
     "name": "stderr",
     "output_type": "stream",
     "text": [
      "avg train loss: 18.7306: 100%|██████████| 1/1 [00:00<00:00,  2.67it/s]\n",
      "avg val loss: 3.0271: 100%|██████████| 1/1 [00:00<00:00, 13.51it/s]\n"
     ]
    },
    {
     "name": "stdout",
     "output_type": "stream",
     "text": [
      "---  Accuracy : 0.5378151535987854 \n",
      "\n",
      "Waiting += 1\n",
      "\n",
      "Starting epoch 164 / 300\n"
     ]
    },
    {
     "name": "stderr",
     "output_type": "stream",
     "text": [
      "avg train loss: 2.4153: 100%|██████████| 1/1 [00:00<00:00,  2.60it/s]\n",
      "avg val loss: 11.7150: 100%|██████████| 1/1 [00:00<00:00, 13.70it/s]\n"
     ]
    },
    {
     "name": "stdout",
     "output_type": "stream",
     "text": [
      "---  Accuracy : 0.5378151535987854 \n",
      "\n",
      "Waiting += 1\n",
      "\n",
      "Starting epoch 165 / 300\n"
     ]
    },
    {
     "name": "stderr",
     "output_type": "stream",
     "text": [
      "avg train loss: 9.4254: 100%|██████████| 1/1 [00:00<00:00,  2.63it/s]\n",
      "avg val loss: 12.8503: 100%|██████████| 1/1 [00:00<00:00, 13.70it/s]\n"
     ]
    },
    {
     "name": "stdout",
     "output_type": "stream",
     "text": [
      "---  Accuracy : 0.5378151535987854 \n",
      "\n",
      "Waiting += 1\n",
      "\n",
      "Starting epoch 166 / 300\n"
     ]
    },
    {
     "name": "stderr",
     "output_type": "stream",
     "text": [
      "avg train loss: 10.3603: 100%|██████████| 1/1 [00:00<00:00,  2.57it/s]\n",
      "avg val loss: 7.5649: 100%|██████████| 1/1 [00:00<00:00, 13.51it/s]\n"
     ]
    },
    {
     "name": "stdout",
     "output_type": "stream",
     "text": [
      "---  Accuracy : 0.5378151535987854 \n",
      "\n",
      "Waiting += 1\n",
      "\n",
      "Starting epoch 167 / 300\n"
     ]
    },
    {
     "name": "stderr",
     "output_type": "stream",
     "text": [
      "avg train loss: 6.0985: 100%|██████████| 1/1 [00:00<00:00,  2.66it/s]\n",
      "avg val loss: 4.4059: 100%|██████████| 1/1 [00:00<00:00, 12.99it/s]\n"
     ]
    },
    {
     "name": "stdout",
     "output_type": "stream",
     "text": [
      "---  Accuracy : 0.462184876203537 \n",
      "\n",
      "Waiting += 1\n",
      "\n",
      "Starting epoch 168 / 300\n"
     ]
    },
    {
     "name": "stderr",
     "output_type": "stream",
     "text": [
      "avg train loss: 5.0427: 100%|██████████| 1/1 [00:00<00:00,  2.73it/s]\n",
      "avg val loss: 3.3387: 100%|██████████| 1/1 [00:00<00:00, 13.33it/s]\n"
     ]
    },
    {
     "name": "stdout",
     "output_type": "stream",
     "text": [
      "---  Accuracy : 0.462184876203537 \n",
      "\n",
      "Waiting += 1\n",
      "\n",
      "Starting epoch 169 / 300\n"
     ]
    },
    {
     "name": "stderr",
     "output_type": "stream",
     "text": [
      "avg train loss: 3.8415: 100%|██████████| 1/1 [00:00<00:00,  3.02it/s]\n",
      "avg val loss: 8.4057: 100%|██████████| 1/1 [00:00<00:00, 14.29it/s]\n"
     ]
    },
    {
     "name": "stdout",
     "output_type": "stream",
     "text": [
      "---  Accuracy : 0.5378151535987854 \n",
      "\n",
      "Waiting += 1\n",
      "\n",
      "Starting epoch 170 / 300\n"
     ]
    },
    {
     "name": "stderr",
     "output_type": "stream",
     "text": [
      "avg train loss: 6.7569: 100%|██████████| 1/1 [00:00<00:00,  2.97it/s]\n",
      "avg val loss: 12.0065: 100%|██████████| 1/1 [00:00<00:00, 13.33it/s]\n"
     ]
    },
    {
     "name": "stdout",
     "output_type": "stream",
     "text": [
      "---  Accuracy : 0.5378151535987854 \n",
      "\n",
      "Waiting += 1\n",
      "\n",
      "Starting epoch 171 / 300\n"
     ]
    },
    {
     "name": "stderr",
     "output_type": "stream",
     "text": [
      "avg train loss: 9.6729: 100%|██████████| 1/1 [00:00<00:00,  2.99it/s]\n",
      "avg val loss: 8.6968: 100%|██████████| 1/1 [00:00<00:00, 13.51it/s]\n"
     ]
    },
    {
     "name": "stdout",
     "output_type": "stream",
     "text": [
      "---  Accuracy : 0.5378151535987854 \n",
      "\n",
      "Waiting += 1\n",
      "\n",
      "Starting epoch 172 / 300\n"
     ]
    },
    {
     "name": "stderr",
     "output_type": "stream",
     "text": [
      "avg train loss: 7.0015: 100%|██████████| 1/1 [00:00<00:00,  3.05it/s]\n",
      "avg val loss: 1.1880: 100%|██████████| 1/1 [00:00<00:00, 13.89it/s]\n"
     ]
    },
    {
     "name": "stdout",
     "output_type": "stream",
     "text": [
      "---  Accuracy : 0.47058823704719543 \n",
      "\n",
      "Waiting += 1\n",
      "\n",
      "Starting epoch 173 / 300\n"
     ]
    },
    {
     "name": "stderr",
     "output_type": "stream",
     "text": [
      "avg train loss: 1.3057: 100%|██████████| 1/1 [00:00<00:00,  2.64it/s]\n",
      "avg val loss: 1.9166: 100%|██████████| 1/1 [00:00<00:00, 13.16it/s]\n"
     ]
    },
    {
     "name": "stdout",
     "output_type": "stream",
     "text": [
      "---  Accuracy : 0.462184876203537 \n",
      "\n",
      "Waiting += 1\n",
      "\n",
      "Starting epoch 174 / 300\n"
     ]
    },
    {
     "name": "stderr",
     "output_type": "stream",
     "text": [
      "avg train loss: 2.1698: 100%|██████████| 1/1 [00:00<00:00,  2.38it/s]\n",
      "avg val loss: 7.6896: 100%|██████████| 1/1 [00:00<00:00, 13.51it/s]\n"
     ]
    },
    {
     "name": "stdout",
     "output_type": "stream",
     "text": [
      "---  Accuracy : 0.5378151535987854 \n",
      "\n",
      "Waiting += 1\n",
      "\n",
      "Starting epoch 175 / 300\n"
     ]
    },
    {
     "name": "stderr",
     "output_type": "stream",
     "text": [
      "avg train loss: 6.1914: 100%|██████████| 1/1 [00:00<00:00,  2.34it/s]\n",
      "avg val loss: 9.5781: 100%|██████████| 1/1 [00:00<00:00,  4.69it/s]\n"
     ]
    },
    {
     "name": "stdout",
     "output_type": "stream",
     "text": [
      "---  Accuracy : 0.5378151535987854 \n",
      "\n",
      "Waiting += 1\n",
      "\n",
      "Starting epoch 176 / 300\n"
     ]
    },
    {
     "name": "stderr",
     "output_type": "stream",
     "text": [
      "avg train loss: 7.7040: 100%|██████████| 1/1 [00:00<00:00,  1.38it/s]\n",
      "avg val loss: 4.7679: 100%|██████████| 1/1 [00:00<00:00,  4.90it/s]\n"
     ]
    },
    {
     "name": "stdout",
     "output_type": "stream",
     "text": [
      "---  Accuracy : 0.5378151535987854 \n",
      "\n",
      "Waiting += 1\n",
      "\n",
      "Starting epoch 177 / 300\n"
     ]
    },
    {
     "name": "stderr",
     "output_type": "stream",
     "text": [
      "avg train loss: 3.8138: 100%|██████████| 1/1 [00:00<00:00,  2.02it/s]\n",
      "avg val loss: 7.0171: 100%|██████████| 1/1 [00:00<00:00, 10.87it/s]\n"
     ]
    },
    {
     "name": "stdout",
     "output_type": "stream",
     "text": [
      "---  Accuracy : 0.462184876203537 \n",
      "\n",
      "Waiting += 1\n",
      "\n",
      "Starting epoch 178 / 300\n"
     ]
    },
    {
     "name": "stderr",
     "output_type": "stream",
     "text": [
      "avg train loss: 8.0936: 100%|██████████| 1/1 [00:00<00:00,  3.10it/s]\n",
      "avg val loss: 5.7695: 100%|██████████| 1/1 [00:00<00:00, 13.33it/s]\n"
     ]
    },
    {
     "name": "stdout",
     "output_type": "stream",
     "text": [
      "---  Accuracy : 0.462184876203537 \n",
      "\n",
      "Waiting += 1\n",
      "\n",
      "Starting epoch 179 / 300\n"
     ]
    },
    {
     "name": "stderr",
     "output_type": "stream",
     "text": [
      "avg train loss: 6.6585: 100%|██████████| 1/1 [00:00<00:00,  2.35it/s]\n",
      "avg val loss: 6.3486: 100%|██████████| 1/1 [00:00<00:00, 13.16it/s]\n"
     ]
    },
    {
     "name": "stdout",
     "output_type": "stream",
     "text": [
      "---  Accuracy : 0.5378151535987854 \n",
      "\n",
      "Waiting += 1\n",
      "\n",
      "Starting epoch 180 / 300\n"
     ]
    },
    {
     "name": "stderr",
     "output_type": "stream",
     "text": [
      "avg train loss: 5.1151: 100%|██████████| 1/1 [00:00<00:00,  2.09it/s]\n",
      "avg val loss: 10.2152: 100%|██████████| 1/1 [00:00<00:00, 14.08it/s]\n"
     ]
    },
    {
     "name": "stdout",
     "output_type": "stream",
     "text": [
      "---  Accuracy : 0.5378151535987854 \n",
      "\n",
      "Waiting += 1\n",
      "\n",
      "Starting epoch 181 / 300\n"
     ]
    },
    {
     "name": "stderr",
     "output_type": "stream",
     "text": [
      "avg train loss: 8.2373: 100%|██████████| 1/1 [00:00<00:00,  3.06it/s]\n",
      "avg val loss: 7.2502: 100%|██████████| 1/1 [00:00<00:00, 13.70it/s]\n"
     ]
    },
    {
     "name": "stdout",
     "output_type": "stream",
     "text": [
      "---  Accuracy : 0.5378151535987854 \n",
      "\n",
      "Waiting += 1\n",
      "\n",
      "Starting epoch 182 / 300\n"
     ]
    },
    {
     "name": "stderr",
     "output_type": "stream",
     "text": [
      "avg train loss: 5.8436: 100%|██████████| 1/1 [00:00<00:00,  2.79it/s]\n",
      "avg val loss: 1.9229: 100%|██████████| 1/1 [00:00<00:00, 14.08it/s]\n"
     ]
    },
    {
     "name": "stdout",
     "output_type": "stream",
     "text": [
      "---  Accuracy : 0.462184876203537 \n",
      "\n",
      "Waiting += 1\n",
      "\n",
      "Starting epoch 183 / 300\n"
     ]
    },
    {
     "name": "stderr",
     "output_type": "stream",
     "text": [
      "avg train loss: 2.2281: 100%|██████████| 1/1 [00:00<00:00,  2.67it/s]\n",
      "avg val loss: 0.7618: 100%|██████████| 1/1 [00:00<00:00, 13.51it/s]\n"
     ]
    },
    {
     "name": "stdout",
     "output_type": "stream",
     "text": [
      "---  Accuracy : 0.5210084319114685 \n",
      "\n",
      "Waiting += 1\n",
      "\n",
      "Starting epoch 184 / 300\n"
     ]
    },
    {
     "name": "stderr",
     "output_type": "stream",
     "text": [
      "avg train loss: 0.7069: 100%|██████████| 1/1 [00:00<00:00,  2.60it/s]\n",
      "avg val loss: 2.3289: 100%|██████████| 1/1 [00:00<00:00, 13.70it/s]\n"
     ]
    },
    {
     "name": "stdout",
     "output_type": "stream",
     "text": [
      "---  Accuracy : 0.5378151535987854 \n",
      "\n",
      "Waiting += 1\n",
      "\n",
      "Starting epoch 185 / 300\n"
     ]
    },
    {
     "name": "stderr",
     "output_type": "stream",
     "text": [
      "avg train loss: 1.8422: 100%|██████████| 1/1 [00:00<00:00,  2.67it/s]\n",
      "avg val loss: 2.3435: 100%|██████████| 1/1 [00:00<00:00, 13.51it/s]\n"
     ]
    },
    {
     "name": "stdout",
     "output_type": "stream",
     "text": [
      "---  Accuracy : 0.462184876203537 \n",
      "\n",
      "Waiting += 1\n",
      "\n",
      "Starting epoch 186 / 300\n"
     ]
    },
    {
     "name": "stderr",
     "output_type": "stream",
     "text": [
      "avg train loss: 2.7188: 100%|██████████| 1/1 [00:00<00:00,  2.56it/s]\n",
      "avg val loss: 4.4704: 100%|██████████| 1/1 [00:00<00:00, 13.51it/s]\n"
     ]
    },
    {
     "name": "stdout",
     "output_type": "stream",
     "text": [
      "---  Accuracy : 0.5378151535987854 \n",
      "\n",
      "Waiting += 1\n",
      "\n",
      "Starting epoch 187 / 300\n"
     ]
    },
    {
     "name": "stderr",
     "output_type": "stream",
     "text": [
      "avg train loss: 3.5674: 100%|██████████| 1/1 [00:00<00:00,  2.45it/s]\n",
      "avg val loss: 3.8635: 100%|██████████| 1/1 [00:00<00:00, 13.51it/s]\n"
     ]
    },
    {
     "name": "stdout",
     "output_type": "stream",
     "text": [
      "---  Accuracy : 0.5378151535987854 \n",
      "\n",
      "Waiting += 1\n",
      "\n",
      "Starting epoch 188 / 300\n"
     ]
    },
    {
     "name": "stderr",
     "output_type": "stream",
     "text": [
      "avg train loss: 3.0753: 100%|██████████| 1/1 [00:00<00:00,  2.45it/s]\n",
      "avg val loss: 3.6902: 100%|██████████| 1/1 [00:00<00:00, 13.70it/s]\n"
     ]
    },
    {
     "name": "stdout",
     "output_type": "stream",
     "text": [
      "---  Accuracy : 0.462184876203537 \n",
      "\n",
      "Waiting += 1\n",
      "\n",
      "Starting epoch 189 / 300\n"
     ]
    },
    {
     "name": "stderr",
     "output_type": "stream",
     "text": [
      "avg train loss: 4.2686: 100%|██████████| 1/1 [00:00<00:00,  2.54it/s]\n",
      "avg val loss: 1.2954: 100%|██████████| 1/1 [00:00<00:00, 13.51it/s]\n"
     ]
    },
    {
     "name": "stdout",
     "output_type": "stream",
     "text": [
      "---  Accuracy : 0.5378151535987854 \n",
      "\n",
      "Waiting += 1\n",
      "\n",
      "Starting epoch 190 / 300\n"
     ]
    },
    {
     "name": "stderr",
     "output_type": "stream",
     "text": [
      "avg train loss: 1.0354: 100%|██████████| 1/1 [00:00<00:00,  2.39it/s]\n",
      "avg val loss: 0.7363: 100%|██████████| 1/1 [00:00<00:00, 13.70it/s]\n"
     ]
    },
    {
     "name": "stdout",
     "output_type": "stream",
     "text": [
      "---  Accuracy : 0.5462185144424438 \n",
      "\n",
      "Waiting += 1\n",
      "\n",
      "Starting epoch 191 / 300\n"
     ]
    },
    {
     "name": "stderr",
     "output_type": "stream",
     "text": [
      "avg train loss: 0.6991: 100%|██████████| 1/1 [00:00<00:00,  2.65it/s]\n",
      "avg val loss: 0.7261: 100%|██████████| 1/1 [00:00<00:00, 14.49it/s]\n"
     ]
    },
    {
     "name": "stdout",
     "output_type": "stream",
     "text": [
      "---  Accuracy : 0.5042017102241516 \n",
      "\n",
      "\n",
      "best val loss 0.7320 -> 0.7261\n",
      "\n",
      "Starting epoch 192 / 300\n"
     ]
    },
    {
     "name": "stderr",
     "output_type": "stream",
     "text": [
      "avg train loss: 0.7209: 100%|██████████| 1/1 [00:00<00:00,  2.73it/s]\n",
      "avg val loss: 1.9101: 100%|██████████| 1/1 [00:00<00:00, 13.16it/s]\n"
     ]
    },
    {
     "name": "stdout",
     "output_type": "stream",
     "text": [
      "---  Accuracy : 0.5378151535987854 \n",
      "\n",
      "Waiting += 1\n",
      "\n",
      "Starting epoch 193 / 300\n"
     ]
    },
    {
     "name": "stderr",
     "output_type": "stream",
     "text": [
      "avg train loss: 1.5237: 100%|██████████| 1/1 [00:00<00:00,  2.95it/s]\n",
      "avg val loss: 2.9586: 100%|██████████| 1/1 [00:00<00:00, 13.89it/s]\n"
     ]
    },
    {
     "name": "stdout",
     "output_type": "stream",
     "text": [
      "---  Accuracy : 0.462184876203537 \n",
      "\n",
      "Waiting += 1\n",
      "\n",
      "Starting epoch 194 / 300\n"
     ]
    },
    {
     "name": "stderr",
     "output_type": "stream",
     "text": [
      "avg train loss: 3.4370: 100%|██████████| 1/1 [00:00<00:00,  3.16it/s]\n",
      "avg val loss: 4.1351: 100%|██████████| 1/1 [00:00<00:00, 13.89it/s]\n"
     ]
    },
    {
     "name": "stdout",
     "output_type": "stream",
     "text": [
      "---  Accuracy : 0.5378151535987854 \n",
      "\n",
      "Waiting += 1\n",
      "\n",
      "Starting epoch 195 / 300\n"
     ]
    },
    {
     "name": "stderr",
     "output_type": "stream",
     "text": [
      "avg train loss: 3.3108: 100%|██████████| 1/1 [00:00<00:00,  2.97it/s]\n",
      "avg val loss: 3.6508: 100%|██████████| 1/1 [00:00<00:00, 13.70it/s]\n"
     ]
    },
    {
     "name": "stdout",
     "output_type": "stream",
     "text": [
      "---  Accuracy : 0.5378151535987854 \n",
      "\n",
      "Waiting += 1\n",
      "\n",
      "Starting epoch 196 / 300\n"
     ]
    },
    {
     "name": "stderr",
     "output_type": "stream",
     "text": [
      "avg train loss: 2.9181: 100%|██████████| 1/1 [00:00<00:00,  3.06it/s]\n",
      "avg val loss: 3.7833: 100%|██████████| 1/1 [00:00<00:00, 13.51it/s]\n"
     ]
    },
    {
     "name": "stdout",
     "output_type": "stream",
     "text": [
      "---  Accuracy : 0.462184876203537 \n",
      "\n",
      "Waiting += 1\n",
      "\n",
      "Starting epoch 197 / 300\n"
     ]
    },
    {
     "name": "stderr",
     "output_type": "stream",
     "text": [
      "avg train loss: 4.3915: 100%|██████████| 1/1 [00:00<00:00,  2.58it/s]\n",
      "avg val loss: 1.3154: 100%|██████████| 1/1 [00:00<00:00, 13.51it/s]\n"
     ]
    },
    {
     "name": "stdout",
     "output_type": "stream",
     "text": [
      "---  Accuracy : 0.5378151535987854 \n",
      "\n",
      "Waiting += 1\n",
      "\n",
      "Starting epoch 198 / 300\n"
     ]
    },
    {
     "name": "stderr",
     "output_type": "stream",
     "text": [
      "avg train loss: 1.0464: 100%|██████████| 1/1 [00:00<00:00,  2.58it/s]\n",
      "avg val loss: 0.7210: 100%|██████████| 1/1 [00:00<00:00, 13.33it/s]\n"
     ]
    },
    {
     "name": "stdout",
     "output_type": "stream",
     "text": [
      "---  Accuracy : 0.5546218752861023 \n",
      "\n",
      "\n",
      "best val loss 0.7261 -> 0.7210\n",
      "\n",
      "Starting epoch 199 / 300\n"
     ]
    },
    {
     "name": "stderr",
     "output_type": "stream",
     "text": [
      "avg train loss: 0.6834: 100%|██████████| 1/1 [00:00<00:00,  2.49it/s]\n",
      "avg val loss: 0.7298: 100%|██████████| 1/1 [00:00<00:00, 13.33it/s]\n"
     ]
    },
    {
     "name": "stdout",
     "output_type": "stream",
     "text": [
      "---  Accuracy : 0.5630252361297607 \n",
      "\n",
      "Waiting += 1\n",
      "\n",
      "Starting epoch 200 / 300\n"
     ]
    },
    {
     "name": "stderr",
     "output_type": "stream",
     "text": [
      "avg train loss: 0.6740: 100%|██████████| 1/1 [00:00<00:00,  2.57it/s]\n",
      "avg val loss: 0.8884: 100%|██████████| 1/1 [00:00<00:00, 13.70it/s]\n"
     ]
    },
    {
     "name": "stdout",
     "output_type": "stream",
     "text": [
      "---  Accuracy : 0.5378151535987854 \n",
      "\n",
      "Waiting += 1\n",
      "\n",
      "Starting epoch 201 / 300\n"
     ]
    },
    {
     "name": "stderr",
     "output_type": "stream",
     "text": [
      "avg train loss: 0.7406: 100%|██████████| 1/1 [00:00<00:00,  2.67it/s]\n",
      "avg val loss: 1.9772: 100%|██████████| 1/1 [00:00<00:00, 13.51it/s]\n"
     ]
    },
    {
     "name": "stdout",
     "output_type": "stream",
     "text": [
      "---  Accuracy : 0.462184876203537 \n",
      "\n",
      "Waiting += 1\n",
      "\n",
      "Starting epoch 202 / 300\n"
     ]
    },
    {
     "name": "stderr",
     "output_type": "stream",
     "text": [
      "avg train loss: 2.3007: 100%|██████████| 1/1 [00:00<00:00,  2.78it/s]\n",
      "avg val loss: 6.3674: 100%|██████████| 1/1 [00:00<00:00, 14.08it/s]\n"
     ]
    },
    {
     "name": "stdout",
     "output_type": "stream",
     "text": [
      "---  Accuracy : 0.5378151535987854 \n",
      "\n",
      "Waiting += 1\n",
      "\n",
      "Starting epoch 203 / 300\n"
     ]
    },
    {
     "name": "stderr",
     "output_type": "stream",
     "text": [
      "avg train loss: 5.1078: 100%|██████████| 1/1 [00:00<00:00,  2.24it/s]\n",
      "avg val loss: 7.2016: 100%|██████████| 1/1 [00:00<00:00, 12.66it/s]\n"
     ]
    },
    {
     "name": "stdout",
     "output_type": "stream",
     "text": [
      "---  Accuracy : 0.5378151535987854 \n",
      "\n",
      "Waiting += 1\n",
      "\n",
      "Starting epoch 204 / 300\n"
     ]
    },
    {
     "name": "stderr",
     "output_type": "stream",
     "text": [
      "avg train loss: 5.7832: 100%|██████████| 1/1 [00:00<00:00,  2.70it/s]\n",
      "avg val loss: 1.6689: 100%|██████████| 1/1 [00:00<00:00, 13.16it/s]\n"
     ]
    },
    {
     "name": "stdout",
     "output_type": "stream",
     "text": [
      "---  Accuracy : 0.5378151535987854 \n",
      "\n",
      "Waiting += 1\n",
      "\n",
      "Starting epoch 205 / 300\n"
     ]
    },
    {
     "name": "stderr",
     "output_type": "stream",
     "text": [
      "avg train loss: 1.3185: 100%|██████████| 1/1 [00:00<00:00,  2.90it/s]\n",
      "avg val loss: 10.5619: 100%|██████████| 1/1 [00:00<00:00, 13.70it/s]\n"
     ]
    },
    {
     "name": "stdout",
     "output_type": "stream",
     "text": [
      "---  Accuracy : 0.462184876203537 \n",
      "\n",
      "Waiting += 1\n",
      "\n",
      "Starting epoch 206 / 300\n"
     ]
    },
    {
     "name": "stderr",
     "output_type": "stream",
     "text": [
      "avg train loss: 12.2197: 100%|██████████| 1/1 [00:00<00:00,  3.13it/s]\n",
      "avg val loss: 9.5396: 100%|██████████| 1/1 [00:00<00:00, 13.89it/s]\n"
     ]
    },
    {
     "name": "stdout",
     "output_type": "stream",
     "text": [
      "---  Accuracy : 0.462184876203537 \n",
      "\n",
      "Waiting += 1\n",
      "\n",
      "Starting epoch 207 / 300\n"
     ]
    },
    {
     "name": "stderr",
     "output_type": "stream",
     "text": [
      "avg train loss: 11.0376: 100%|██████████| 1/1 [00:00<00:00,  2.92it/s]\n",
      "avg val loss: 2.8917: 100%|██████████| 1/1 [00:00<00:00, 13.51it/s]\n"
     ]
    },
    {
     "name": "stdout",
     "output_type": "stream",
     "text": [
      "---  Accuracy : 0.5378151535987854 \n",
      "\n",
      "Waiting += 1\n",
      "\n",
      "Starting epoch 208 / 300\n"
     ]
    },
    {
     "name": "stderr",
     "output_type": "stream",
     "text": [
      "avg train loss: 2.2960: 100%|██████████| 1/1 [00:00<00:00,  2.57it/s]\n",
      "avg val loss: 6.5980: 100%|██████████| 1/1 [00:00<00:00, 11.63it/s]\n"
     ]
    },
    {
     "name": "stdout",
     "output_type": "stream",
     "text": [
      "---  Accuracy : 0.5378151535987854 \n",
      "\n",
      "Waiting += 1\n",
      "\n",
      "Starting epoch 209 / 300\n"
     ]
    },
    {
     "name": "stderr",
     "output_type": "stream",
     "text": [
      "avg train loss: 5.2922: 100%|██████████| 1/1 [00:00<00:00,  2.59it/s]\n",
      "avg val loss: 3.7240: 100%|██████████| 1/1 [00:00<00:00, 13.33it/s]\n"
     ]
    },
    {
     "name": "stdout",
     "output_type": "stream",
     "text": [
      "---  Accuracy : 0.5378151535987854 \n",
      "\n",
      "Waiting += 1\n",
      "\n",
      "Starting epoch 210 / 300\n"
     ]
    },
    {
     "name": "stderr",
     "output_type": "stream",
     "text": [
      "avg train loss: 2.9679: 100%|██████████| 1/1 [00:00<00:00,  2.02it/s]\n",
      "avg val loss: 5.9922: 100%|██████████| 1/1 [00:00<00:00, 12.66it/s]\n"
     ]
    },
    {
     "name": "stdout",
     "output_type": "stream",
     "text": [
      "---  Accuracy : 0.462184876203537 \n",
      "\n",
      "Waiting += 1\n",
      "\n",
      "Starting epoch 211 / 300\n"
     ]
    },
    {
     "name": "stderr",
     "output_type": "stream",
     "text": [
      "avg train loss: 6.9540: 100%|██████████| 1/1 [00:00<00:00,  2.93it/s]\n",
      "avg val loss: 3.0370: 100%|██████████| 1/1 [00:00<00:00, 13.51it/s]\n"
     ]
    },
    {
     "name": "stdout",
     "output_type": "stream",
     "text": [
      "---  Accuracy : 0.462184876203537 \n",
      "\n",
      "Waiting += 1\n",
      "\n",
      "Starting epoch 212 / 300\n"
     ]
    },
    {
     "name": "stderr",
     "output_type": "stream",
     "text": [
      "avg train loss: 3.5427: 100%|██████████| 1/1 [00:00<00:00,  2.59it/s]\n",
      "avg val loss: 10.3345: 100%|██████████| 1/1 [00:00<00:00, 13.33it/s]\n"
     ]
    },
    {
     "name": "stdout",
     "output_type": "stream",
     "text": [
      "---  Accuracy : 0.5378151535987854 \n",
      "\n",
      "Waiting += 1\n",
      "\n",
      "Starting epoch 213 / 300\n"
     ]
    },
    {
     "name": "stderr",
     "output_type": "stream",
     "text": [
      "avg train loss: 8.3064: 100%|██████████| 1/1 [00:00<00:00,  2.53it/s]\n",
      "avg val loss: 15.4980: 100%|██████████| 1/1 [00:00<00:00, 13.89it/s]\n"
     ]
    },
    {
     "name": "stdout",
     "output_type": "stream",
     "text": [
      "---  Accuracy : 0.5378151535987854 \n",
      "\n",
      "Waiting += 1\n",
      "\n",
      "Starting epoch 214 / 300\n"
     ]
    },
    {
     "name": "stderr",
     "output_type": "stream",
     "text": [
      "avg train loss: 12.4869: 100%|██████████| 1/1 [00:00<00:00,  2.55it/s]\n",
      "avg val loss: 13.6224: 100%|██████████| 1/1 [00:00<00:00, 13.33it/s]\n"
     ]
    },
    {
     "name": "stdout",
     "output_type": "stream",
     "text": [
      "---  Accuracy : 0.5378151535987854 \n",
      "\n",
      "Waiting += 1\n",
      "\n",
      "Starting epoch 215 / 300\n"
     ]
    },
    {
     "name": "stderr",
     "output_type": "stream",
     "text": [
      "avg train loss: 10.9750: 100%|██████████| 1/1 [00:00<00:00,  2.46it/s]\n",
      "avg val loss: 5.4468: 100%|██████████| 1/1 [00:00<00:00, 13.51it/s]\n"
     ]
    },
    {
     "name": "stdout",
     "output_type": "stream",
     "text": [
      "---  Accuracy : 0.5378151535987854 \n",
      "\n",
      "Waiting += 1\n",
      "\n",
      "Starting epoch 216 / 300\n"
     ]
    },
    {
     "name": "stderr",
     "output_type": "stream",
     "text": [
      "avg train loss: 4.3680: 100%|██████████| 1/1 [00:00<00:00,  2.42it/s]\n",
      "avg val loss: 9.5533: 100%|██████████| 1/1 [00:00<00:00, 13.51it/s]\n"
     ]
    },
    {
     "name": "stdout",
     "output_type": "stream",
     "text": [
      "---  Accuracy : 0.462184876203537 \n",
      "\n",
      "Waiting += 1\n",
      "\n",
      "Starting epoch 217 / 300\n"
     ]
    },
    {
     "name": "stderr",
     "output_type": "stream",
     "text": [
      "avg train loss: 11.0551: 100%|██████████| 1/1 [00:00<00:00,  2.62it/s]\n",
      "avg val loss: 11.4232: 100%|██████████| 1/1 [00:00<00:00, 13.51it/s]\n"
     ]
    },
    {
     "name": "stdout",
     "output_type": "stream",
     "text": [
      "---  Accuracy : 0.462184876203537 \n",
      "\n",
      "Waiting += 1\n",
      "\n",
      "Starting epoch 218 / 300\n"
     ]
    },
    {
     "name": "stderr",
     "output_type": "stream",
     "text": [
      "avg train loss: 13.2195: 100%|██████████| 1/1 [00:00<00:00,  2.46it/s]\n",
      "avg val loss: 1.1968: 100%|██████████| 1/1 [00:00<00:00, 13.33it/s]\n"
     ]
    },
    {
     "name": "stdout",
     "output_type": "stream",
     "text": [
      "---  Accuracy : 0.462184876203537 \n",
      "\n",
      "Waiting += 1\n",
      "\n",
      "Starting epoch 219 / 300\n"
     ]
    },
    {
     "name": "stderr",
     "output_type": "stream",
     "text": [
      "avg train loss: 1.3855: 100%|██████████| 1/1 [00:00<00:00,  2.48it/s]\n",
      "avg val loss: 15.5589: 100%|██████████| 1/1 [00:00<00:00, 13.33it/s]\n"
     ]
    },
    {
     "name": "stdout",
     "output_type": "stream",
     "text": [
      "---  Accuracy : 0.5378151535987854 \n",
      "\n",
      "Waiting += 1\n",
      "\n",
      "Starting epoch 220 / 300\n"
     ]
    },
    {
     "name": "stderr",
     "output_type": "stream",
     "text": [
      "avg train loss: 12.5651: 100%|██████████| 1/1 [00:00<00:00,  2.42it/s]\n",
      "avg val loss: 24.0992: 100%|██████████| 1/1 [00:00<00:00, 12.99it/s]\n"
     ]
    },
    {
     "name": "stdout",
     "output_type": "stream",
     "text": [
      "---  Accuracy : 0.5378151535987854 \n",
      "\n",
      "Waiting += 1\n",
      "\n",
      "Starting epoch 221 / 300\n"
     ]
    },
    {
     "name": "stderr",
     "output_type": "stream",
     "text": [
      "avg train loss: 19.4682: 100%|██████████| 1/1 [00:00<00:00,  2.39it/s]\n",
      "avg val loss: 25.2135: 100%|██████████| 1/1 [00:00<00:00, 13.33it/s]\n"
     ]
    },
    {
     "name": "stdout",
     "output_type": "stream",
     "text": [
      "---  Accuracy : 0.5378151535987854 \n",
      "\n",
      "Waiting += 1\n",
      "\n",
      "Starting epoch 222 / 300\n"
     ]
    },
    {
     "name": "stderr",
     "output_type": "stream",
     "text": [
      "avg train loss: 20.3713: 100%|██████████| 1/1 [00:00<00:00,  2.21it/s]\n",
      "avg val loss: 19.5249: 100%|██████████| 1/1 [00:00<00:00, 13.33it/s]\n"
     ]
    },
    {
     "name": "stdout",
     "output_type": "stream",
     "text": [
      "---  Accuracy : 0.5378151535987854 \n",
      "\n",
      "Waiting += 1\n",
      "\n",
      "Starting epoch 223 / 300\n"
     ]
    },
    {
     "name": "stderr",
     "output_type": "stream",
     "text": [
      "avg train loss: 15.8082: 100%|██████████| 1/1 [00:00<00:00,  2.41it/s]\n",
      "avg val loss: 8.4927: 100%|██████████| 1/1 [00:00<00:00, 13.16it/s]\n"
     ]
    },
    {
     "name": "stdout",
     "output_type": "stream",
     "text": [
      "---  Accuracy : 0.5378151535987854 \n",
      "\n",
      "Waiting += 1\n",
      "\n",
      "Starting epoch 224 / 300\n"
     ]
    },
    {
     "name": "stderr",
     "output_type": "stream",
     "text": [
      "avg train loss: 6.8866: 100%|██████████| 1/1 [00:00<00:00,  2.54it/s]\n",
      "avg val loss: 8.9454: 100%|██████████| 1/1 [00:00<00:00, 13.16it/s]\n"
     ]
    },
    {
     "name": "stdout",
     "output_type": "stream",
     "text": [
      "---  Accuracy : 0.462184876203537 \n",
      "\n",
      "Waiting += 1\n",
      "\n",
      "Starting epoch 225 / 300\n"
     ]
    },
    {
     "name": "stderr",
     "output_type": "stream",
     "text": [
      "avg train loss: 10.3457: 100%|██████████| 1/1 [00:00<00:00,  2.44it/s]\n",
      "avg val loss: 13.6652: 100%|██████████| 1/1 [00:00<00:00, 13.16it/s]\n"
     ]
    },
    {
     "name": "stdout",
     "output_type": "stream",
     "text": [
      "---  Accuracy : 0.462184876203537 \n",
      "\n",
      "Waiting += 1\n",
      "\n",
      "Starting epoch 226 / 300\n"
     ]
    },
    {
     "name": "stderr",
     "output_type": "stream",
     "text": [
      "avg train loss: 15.7775: 100%|██████████| 1/1 [00:00<00:00,  2.55it/s]\n",
      "avg val loss: 5.4375: 100%|██████████| 1/1 [00:00<00:00, 13.33it/s]\n"
     ]
    },
    {
     "name": "stdout",
     "output_type": "stream",
     "text": [
      "---  Accuracy : 0.462184876203537 \n",
      "\n",
      "Waiting += 1\n",
      "\n",
      "Starting epoch 227 / 300\n"
     ]
    },
    {
     "name": "stderr",
     "output_type": "stream",
     "text": [
      "avg train loss: 6.2963: 100%|██████████| 1/1 [00:00<00:00,  2.41it/s]\n",
      "avg val loss: 12.4186: 100%|██████████| 1/1 [00:00<00:00, 13.16it/s]\n"
     ]
    },
    {
     "name": "stdout",
     "output_type": "stream",
     "text": [
      "---  Accuracy : 0.5378151535987854 \n",
      "\n",
      "Waiting += 1\n",
      "\n",
      "Starting epoch 228 / 300\n"
     ]
    },
    {
     "name": "stderr",
     "output_type": "stream",
     "text": [
      "avg train loss: 10.0157: 100%|██████████| 1/1 [00:00<00:00,  2.53it/s]\n",
      "avg val loss: 21.2619: 100%|██████████| 1/1 [00:00<00:00, 13.70it/s]\n"
     ]
    },
    {
     "name": "stdout",
     "output_type": "stream",
     "text": [
      "---  Accuracy : 0.5378151535987854 \n",
      "\n",
      "Waiting += 1\n",
      "\n",
      "Starting epoch 229 / 300\n"
     ]
    },
    {
     "name": "stderr",
     "output_type": "stream",
     "text": [
      "avg train loss: 17.1691: 100%|██████████| 1/1 [00:00<00:00,  2.35it/s]\n",
      "avg val loss: 22.6485: 100%|██████████| 1/1 [00:00<00:00, 12.99it/s]\n"
     ]
    },
    {
     "name": "stdout",
     "output_type": "stream",
     "text": [
      "---  Accuracy : 0.5378151535987854 \n",
      "\n",
      "Waiting += 1\n",
      "\n",
      "Starting epoch 230 / 300\n"
     ]
    },
    {
     "name": "stderr",
     "output_type": "stream",
     "text": [
      "avg train loss: 18.2878: 100%|██████████| 1/1 [00:00<00:00,  2.28it/s]\n",
      "avg val loss: 17.4437: 100%|██████████| 1/1 [00:00<00:00, 13.33it/s]\n"
     ]
    },
    {
     "name": "stdout",
     "output_type": "stream",
     "text": [
      "---  Accuracy : 0.5378151535987854 \n",
      "\n",
      "Waiting += 1\n",
      "\n",
      "Starting epoch 231 / 300\n"
     ]
    },
    {
     "name": "stderr",
     "output_type": "stream",
     "text": [
      "avg train loss: 14.0726: 100%|██████████| 1/1 [00:00<00:00,  2.42it/s]\n",
      "avg val loss: 6.0701: 100%|██████████| 1/1 [00:00<00:00, 13.16it/s]\n"
     ]
    },
    {
     "name": "stdout",
     "output_type": "stream",
     "text": [
      "---  Accuracy : 0.5378151535987854 \n",
      "\n",
      "Waiting += 1\n",
      "\n",
      "Starting epoch 232 / 300\n"
     ]
    },
    {
     "name": "stderr",
     "output_type": "stream",
     "text": [
      "avg train loss: 4.8776: 100%|██████████| 1/1 [00:00<00:00,  2.57it/s]\n",
      "avg val loss: 12.5893: 100%|██████████| 1/1 [00:00<00:00, 13.51it/s]\n"
     ]
    },
    {
     "name": "stdout",
     "output_type": "stream",
     "text": [
      "---  Accuracy : 0.462184876203537 \n",
      "\n",
      "Waiting += 1\n",
      "\n",
      "Starting epoch 233 / 300\n"
     ]
    },
    {
     "name": "stderr",
     "output_type": "stream",
     "text": [
      "avg train loss: 14.5793: 100%|██████████| 1/1 [00:00<00:00,  2.39it/s]\n",
      "avg val loss: 17.5634: 100%|██████████| 1/1 [00:00<00:00, 13.33it/s]\n"
     ]
    },
    {
     "name": "stdout",
     "output_type": "stream",
     "text": [
      "---  Accuracy : 0.462184876203537 \n",
      "\n",
      "Waiting += 1\n",
      "\n",
      "Starting epoch 234 / 300\n"
     ]
    },
    {
     "name": "stderr",
     "output_type": "stream",
     "text": [
      "avg train loss: 20.3041: 100%|██████████| 1/1 [00:00<00:00,  2.53it/s]\n",
      "avg val loss: 8.9392: 100%|██████████| 1/1 [00:00<00:00, 12.05it/s]\n"
     ]
    },
    {
     "name": "stdout",
     "output_type": "stream",
     "text": [
      "---  Accuracy : 0.462184876203537 \n",
      "\n",
      "Waiting += 1\n",
      "\n",
      "Starting epoch 235 / 300\n"
     ]
    },
    {
     "name": "stderr",
     "output_type": "stream",
     "text": [
      "avg train loss: 10.3602: 100%|██████████| 1/1 [00:00<00:00,  2.34it/s]\n",
      "avg val loss: 10.0884: 100%|██████████| 1/1 [00:00<00:00, 13.51it/s]\n"
     ]
    },
    {
     "name": "stdout",
     "output_type": "stream",
     "text": [
      "---  Accuracy : 0.5378151535987854 \n",
      "\n",
      "Waiting += 1\n",
      "\n",
      "Starting epoch 236 / 300\n"
     ]
    },
    {
     "name": "stderr",
     "output_type": "stream",
     "text": [
      "avg train loss: 8.1304: 100%|██████████| 1/1 [00:00<00:00,  2.67it/s]\n",
      "avg val loss: 19.3602: 100%|██████████| 1/1 [00:00<00:00, 14.08it/s]\n"
     ]
    },
    {
     "name": "stdout",
     "output_type": "stream",
     "text": [
      "---  Accuracy : 0.5378151535987854 \n",
      "\n",
      "Waiting += 1\n",
      "\n",
      "Starting epoch 237 / 300\n"
     ]
    },
    {
     "name": "stderr",
     "output_type": "stream",
     "text": [
      "avg train loss: 15.6232: 100%|██████████| 1/1 [00:00<00:00,  2.65it/s]\n",
      "avg val loss: 20.9179: 100%|██████████| 1/1 [00:00<00:00, 13.51it/s]\n"
     ]
    },
    {
     "name": "stdout",
     "output_type": "stream",
     "text": [
      "---  Accuracy : 0.5378151535987854 \n",
      "\n",
      "Waiting += 1\n",
      "\n",
      "Starting epoch 238 / 300\n"
     ]
    },
    {
     "name": "stderr",
     "output_type": "stream",
     "text": [
      "avg train loss: 16.8886: 100%|██████████| 1/1 [00:00<00:00,  2.36it/s]\n",
      "avg val loss: 15.7714: 100%|██████████| 1/1 [00:00<00:00, 13.89it/s]\n"
     ]
    },
    {
     "name": "stdout",
     "output_type": "stream",
     "text": [
      "---  Accuracy : 0.5378151535987854 \n",
      "\n",
      "Waiting += 1\n",
      "\n",
      "Starting epoch 239 / 300\n"
     ]
    },
    {
     "name": "stderr",
     "output_type": "stream",
     "text": [
      "avg train loss: 12.7213: 100%|██████████| 1/1 [00:00<00:00,  2.38it/s]\n",
      "avg val loss: 4.4375: 100%|██████████| 1/1 [00:00<00:00, 13.89it/s]\n"
     ]
    },
    {
     "name": "stdout",
     "output_type": "stream",
     "text": [
      "---  Accuracy : 0.5378151535987854 \n",
      "\n",
      "Waiting += 1\n",
      "\n",
      "Starting epoch 240 / 300\n"
     ]
    },
    {
     "name": "stderr",
     "output_type": "stream",
     "text": [
      "avg train loss: 3.5669: 100%|██████████| 1/1 [00:00<00:00,  2.46it/s]\n",
      "avg val loss: 14.1527: 100%|██████████| 1/1 [00:00<00:00, 15.62it/s]\n"
     ]
    },
    {
     "name": "stdout",
     "output_type": "stream",
     "text": [
      "---  Accuracy : 0.462184876203537 \n",
      "\n",
      "Waiting += 1\n",
      "\n",
      "Starting epoch 241 / 300\n"
     ]
    },
    {
     "name": "stderr",
     "output_type": "stream",
     "text": [
      "avg train loss: 16.3652: 100%|██████████| 1/1 [00:00<00:00,  2.68it/s]\n",
      "avg val loss: 18.8542: 100%|██████████| 1/1 [00:00<00:00, 13.70it/s]\n"
     ]
    },
    {
     "name": "stdout",
     "output_type": "stream",
     "text": [
      "---  Accuracy : 0.462184876203537 \n",
      "\n",
      "Waiting += 1\n",
      "\n",
      "Starting epoch 242 / 300\n"
     ]
    },
    {
     "name": "stderr",
     "output_type": "stream",
     "text": [
      "avg train loss: 21.7741: 100%|██████████| 1/1 [00:00<00:00,  2.71it/s]\n",
      "avg val loss: 10.7003: 100%|██████████| 1/1 [00:00<00:00, 13.70it/s]\n"
     ]
    },
    {
     "name": "stdout",
     "output_type": "stream",
     "text": [
      "---  Accuracy : 0.462184876203537 \n",
      "\n",
      "Waiting += 1\n",
      "\n",
      "Starting epoch 243 / 300\n"
     ]
    },
    {
     "name": "stderr",
     "output_type": "stream",
     "text": [
      "avg train loss: 12.3869: 100%|██████████| 1/1 [00:00<00:00,  2.93it/s]\n",
      "avg val loss: 8.2850: 100%|██████████| 1/1 [00:00<00:00, 12.05it/s]\n"
     ]
    },
    {
     "name": "stdout",
     "output_type": "stream",
     "text": [
      "---  Accuracy : 0.5378151535987854 \n",
      "\n",
      "Waiting += 1\n",
      "\n",
      "Starting epoch 244 / 300\n"
     ]
    },
    {
     "name": "stderr",
     "output_type": "stream",
     "text": [
      "avg train loss: 6.6695: 100%|██████████| 1/1 [00:00<00:00,  2.96it/s]\n",
      "avg val loss: 17.3936: 100%|██████████| 1/1 [00:00<00:00, 12.35it/s]\n"
     ]
    },
    {
     "name": "stdout",
     "output_type": "stream",
     "text": [
      "---  Accuracy : 0.5378151535987854 \n",
      "\n",
      "Waiting += 1\n",
      "\n",
      "Starting epoch 245 / 300\n"
     ]
    },
    {
     "name": "stderr",
     "output_type": "stream",
     "text": [
      "avg train loss: 14.0286: 100%|██████████| 1/1 [00:00<00:00,  2.95it/s]\n",
      "avg val loss: 18.8362: 100%|██████████| 1/1 [00:00<00:00, 13.89it/s]\n"
     ]
    },
    {
     "name": "stdout",
     "output_type": "stream",
     "text": [
      "---  Accuracy : 0.5378151535987854 \n",
      "\n",
      "Waiting += 1\n",
      "\n",
      "Starting epoch 246 / 300\n"
     ]
    },
    {
     "name": "stderr",
     "output_type": "stream",
     "text": [
      "avg train loss: 15.1976: 100%|██████████| 1/1 [00:00<00:00,  2.89it/s]\n",
      "avg val loss: 13.3192: 100%|██████████| 1/1 [00:00<00:00, 13.51it/s]\n"
     ]
    },
    {
     "name": "stdout",
     "output_type": "stream",
     "text": [
      "---  Accuracy : 0.5378151535987854 \n",
      "\n",
      "Waiting += 1\n",
      "\n",
      "Starting epoch 247 / 300\n"
     ]
    },
    {
     "name": "stderr",
     "output_type": "stream",
     "text": [
      "avg train loss: 10.7377: 100%|██████████| 1/1 [00:00<00:00,  2.79it/s]\n",
      "avg val loss: 1.7826: 100%|██████████| 1/1 [00:00<00:00, 13.16it/s]\n"
     ]
    },
    {
     "name": "stdout",
     "output_type": "stream",
     "text": [
      "---  Accuracy : 0.5378151535987854 \n",
      "\n",
      "Waiting += 1\n",
      "\n",
      "Starting epoch 248 / 300\n"
     ]
    },
    {
     "name": "stderr",
     "output_type": "stream",
     "text": [
      "avg train loss: 1.4177: 100%|██████████| 1/1 [00:00<00:00,  2.22it/s]\n",
      "avg val loss: 17.3883: 100%|██████████| 1/1 [00:00<00:00, 16.67it/s]\n"
     ]
    },
    {
     "name": "stdout",
     "output_type": "stream",
     "text": [
      "---  Accuracy : 0.462184876203537 \n",
      "\n",
      "Waiting += 1\n",
      "\n",
      "Starting epoch 249 / 300\n"
     ]
    },
    {
     "name": "stderr",
     "output_type": "stream",
     "text": [
      "avg train loss: 20.0910: 100%|██████████| 1/1 [00:00<00:00,  2.48it/s]\n",
      "avg val loss: 21.8406: 100%|██████████| 1/1 [00:00<00:00, 13.70it/s]\n"
     ]
    },
    {
     "name": "stdout",
     "output_type": "stream",
     "text": [
      "---  Accuracy : 0.462184876203537 \n",
      "\n",
      "Waiting += 1\n",
      "\n",
      "Starting epoch 250 / 300\n"
     ]
    },
    {
     "name": "stderr",
     "output_type": "stream",
     "text": [
      "avg train loss: 25.2246: 100%|██████████| 1/1 [00:00<00:00,  2.42it/s]\n",
      "avg val loss: 12.7366: 100%|██████████| 1/1 [00:00<00:00, 13.70it/s]\n"
     ]
    },
    {
     "name": "stdout",
     "output_type": "stream",
     "text": [
      "---  Accuracy : 0.462184876203537 \n",
      "\n",
      "Waiting += 1\n",
      "\n",
      "Starting epoch 251 / 300\n"
     ]
    },
    {
     "name": "stderr",
     "output_type": "stream",
     "text": [
      "avg train loss: 14.7363: 100%|██████████| 1/1 [00:00<00:00,  2.53it/s]\n",
      "avg val loss: 7.2087: 100%|██████████| 1/1 [00:00<00:00, 13.89it/s]\n"
     ]
    },
    {
     "name": "stdout",
     "output_type": "stream",
     "text": [
      "---  Accuracy : 0.5378151535987854 \n",
      "\n",
      "Waiting += 1\n",
      "\n",
      "Starting epoch 252 / 300\n"
     ]
    },
    {
     "name": "stderr",
     "output_type": "stream",
     "text": [
      "avg train loss: 5.7989: 100%|██████████| 1/1 [00:00<00:00,  2.39it/s]\n",
      "avg val loss: 16.7873: 100%|██████████| 1/1 [00:00<00:00, 13.51it/s]\n"
     ]
    },
    {
     "name": "stdout",
     "output_type": "stream",
     "text": [
      "---  Accuracy : 0.5378151535987854 \n",
      "\n",
      "Waiting += 1\n",
      "\n",
      "Starting epoch 253 / 300\n"
     ]
    },
    {
     "name": "stderr",
     "output_type": "stream",
     "text": [
      "avg train loss: 13.5416: 100%|██████████| 1/1 [00:00<00:00,  2.96it/s]\n",
      "avg val loss: 18.6962: 100%|██████████| 1/1 [00:00<00:00, 13.16it/s]\n"
     ]
    },
    {
     "name": "stdout",
     "output_type": "stream",
     "text": [
      "---  Accuracy : 0.5378151535987854 \n",
      "\n",
      "Waiting += 1\n",
      "\n",
      "Starting epoch 254 / 300\n"
     ]
    },
    {
     "name": "stderr",
     "output_type": "stream",
     "text": [
      "avg train loss: 15.0850: 100%|██████████| 1/1 [00:00<00:00,  2.47it/s]\n",
      "avg val loss: 13.7473: 100%|██████████| 1/1 [00:00<00:00, 14.29it/s]\n"
     ]
    },
    {
     "name": "stdout",
     "output_type": "stream",
     "text": [
      "---  Accuracy : 0.5378151535987854 \n",
      "\n",
      "Waiting += 1\n",
      "\n",
      "Starting epoch 255 / 300\n"
     ]
    },
    {
     "name": "stderr",
     "output_type": "stream",
     "text": [
      "avg train loss: 11.0800: 100%|██████████| 1/1 [00:00<00:00,  2.54it/s]\n",
      "avg val loss: 2.5662: 100%|██████████| 1/1 [00:00<00:00, 14.29it/s]\n"
     ]
    },
    {
     "name": "stdout",
     "output_type": "stream",
     "text": [
      "---  Accuracy : 0.5378151535987854 \n",
      "\n",
      "Waiting += 1\n",
      "\n",
      "Starting epoch 256 / 300\n"
     ]
    },
    {
     "name": "stderr",
     "output_type": "stream",
     "text": [
      "avg train loss: 2.0543: 100%|██████████| 1/1 [00:00<00:00,  2.43it/s]\n",
      "avg val loss: 16.3386: 100%|██████████| 1/1 [00:00<00:00, 13.70it/s]\n"
     ]
    },
    {
     "name": "stdout",
     "output_type": "stream",
     "text": [
      "---  Accuracy : 0.462184876203537 \n",
      "\n",
      "Waiting += 1\n",
      "\n",
      "Starting epoch 257 / 300\n"
     ]
    },
    {
     "name": "stderr",
     "output_type": "stream",
     "text": [
      "avg train loss: 18.8837: 100%|██████████| 1/1 [00:00<00:00,  2.40it/s]\n",
      "avg val loss: 20.8167: 100%|██████████| 1/1 [00:00<00:00, 13.89it/s]\n"
     ]
    },
    {
     "name": "stdout",
     "output_type": "stream",
     "text": [
      "---  Accuracy : 0.462184876203537 \n",
      "\n",
      "Waiting += 1\n",
      "\n",
      "Starting epoch 258 / 300\n"
     ]
    },
    {
     "name": "stderr",
     "output_type": "stream",
     "text": [
      "avg train loss: 24.0270: 100%|██████████| 1/1 [00:00<00:00,  2.53it/s]\n",
      "avg val loss: 11.9550: 100%|██████████| 1/1 [00:00<00:00, 13.89it/s]\n"
     ]
    },
    {
     "name": "stdout",
     "output_type": "stream",
     "text": [
      "---  Accuracy : 0.462184876203537 \n",
      "\n",
      "Waiting += 1\n",
      "\n",
      "Starting epoch 259 / 300\n"
     ]
    },
    {
     "name": "stderr",
     "output_type": "stream",
     "text": [
      "avg train loss: 13.8119: 100%|██████████| 1/1 [00:00<00:00,  2.50it/s]\n",
      "avg val loss: 7.2449: 100%|██████████| 1/1 [00:00<00:00, 15.15it/s]\n"
     ]
    },
    {
     "name": "stdout",
     "output_type": "stream",
     "text": [
      "---  Accuracy : 0.5378151535987854 \n",
      "\n",
      "Waiting += 1\n",
      "\n",
      "Starting epoch 260 / 300\n"
     ]
    },
    {
     "name": "stderr",
     "output_type": "stream",
     "text": [
      "avg train loss: 5.8404: 100%|██████████| 1/1 [00:00<00:00,  2.71it/s]\n",
      "avg val loss: 16.5037: 100%|██████████| 1/1 [00:00<00:00, 14.08it/s]\n"
     ]
    },
    {
     "name": "stdout",
     "output_type": "stream",
     "text": [
      "---  Accuracy : 0.5378151535987854 \n",
      "\n",
      "Waiting += 1\n",
      "\n",
      "Starting epoch 261 / 300\n"
     ]
    },
    {
     "name": "stderr",
     "output_type": "stream",
     "text": [
      "avg train loss: 13.3179: 100%|██████████| 1/1 [00:00<00:00,  2.76it/s]\n",
      "avg val loss: 18.1954: 100%|██████████| 1/1 [00:00<00:00, 16.13it/s]\n"
     ]
    },
    {
     "name": "stdout",
     "output_type": "stream",
     "text": [
      "---  Accuracy : 0.5378151535987854 \n",
      "\n",
      "Waiting += 1\n",
      "\n",
      "Starting epoch 262 / 300\n"
     ]
    },
    {
     "name": "stderr",
     "output_type": "stream",
     "text": [
      "avg train loss: 14.6775: 100%|██████████| 1/1 [00:00<00:00,  2.78it/s]\n",
      "avg val loss: 12.8960: 100%|██████████| 1/1 [00:00<00:00, 14.71it/s]\n"
     ]
    },
    {
     "name": "stdout",
     "output_type": "stream",
     "text": [
      "---  Accuracy : 0.5378151535987854 \n",
      "\n",
      "Waiting += 1\n",
      "\n",
      "Starting epoch 263 / 300\n"
     ]
    },
    {
     "name": "stderr",
     "output_type": "stream",
     "text": [
      "avg train loss: 10.4062: 100%|██████████| 1/1 [00:00<00:00,  2.89it/s]\n",
      "avg val loss: 1.4137: 100%|██████████| 1/1 [00:00<00:00, 13.89it/s]\n"
     ]
    },
    {
     "name": "stdout",
     "output_type": "stream",
     "text": [
      "---  Accuracy : 0.5378151535987854 \n",
      "\n",
      "Waiting += 1\n",
      "\n",
      "Starting epoch 264 / 300\n"
     ]
    },
    {
     "name": "stderr",
     "output_type": "stream",
     "text": [
      "avg train loss: 1.1618: 100%|██████████| 1/1 [00:00<00:00,  2.61it/s]\n",
      "avg val loss: 17.1626: 100%|██████████| 1/1 [00:00<00:00, 13.89it/s]\n"
     ]
    },
    {
     "name": "stdout",
     "output_type": "stream",
     "text": [
      "---  Accuracy : 0.462184876203537 \n",
      "\n",
      "Waiting += 1\n",
      "\n",
      "Starting epoch 265 / 300\n"
     ]
    },
    {
     "name": "stderr",
     "output_type": "stream",
     "text": [
      "avg train loss: 19.7729: 100%|██████████| 1/1 [00:00<00:00,  2.77it/s]\n",
      "avg val loss: 20.9794: 100%|██████████| 1/1 [00:00<00:00, 14.29it/s]\n"
     ]
    },
    {
     "name": "stdout",
     "output_type": "stream",
     "text": [
      "---  Accuracy : 0.462184876203537 \n",
      "\n",
      "Waiting += 1\n",
      "\n",
      "Starting epoch 266 / 300\n"
     ]
    },
    {
     "name": "stderr",
     "output_type": "stream",
     "text": [
      "avg train loss: 24.1674: 100%|██████████| 1/1 [00:00<00:00,  2.56it/s]\n",
      "avg val loss: 11.3612: 100%|██████████| 1/1 [00:00<00:00, 13.89it/s]\n"
     ]
    },
    {
     "name": "stdout",
     "output_type": "stream",
     "text": [
      "---  Accuracy : 0.462184876203537 \n",
      "\n",
      "Waiting += 1\n",
      "\n",
      "Starting epoch 267 / 300\n"
     ]
    },
    {
     "name": "stderr",
     "output_type": "stream",
     "text": [
      "avg train loss: 13.0971: 100%|██████████| 1/1 [00:00<00:00,  2.65it/s]\n",
      "avg val loss: 8.3527: 100%|██████████| 1/1 [00:00<00:00, 14.29it/s]\n"
     ]
    },
    {
     "name": "stdout",
     "output_type": "stream",
     "text": [
      "---  Accuracy : 0.5378151535987854 \n",
      "\n",
      "Waiting += 1\n",
      "\n",
      "Starting epoch 268 / 300\n"
     ]
    },
    {
     "name": "stderr",
     "output_type": "stream",
     "text": [
      "avg train loss: 6.7664: 100%|██████████| 1/1 [00:00<00:00,  2.72it/s]\n",
      "avg val loss: 17.9640: 100%|██████████| 1/1 [00:00<00:00, 13.89it/s]\n"
     ]
    },
    {
     "name": "stdout",
     "output_type": "stream",
     "text": [
      "---  Accuracy : 0.5378151535987854 \n",
      "\n",
      "Waiting += 1\n",
      "\n",
      "Starting epoch 269 / 300\n"
     ]
    },
    {
     "name": "stderr",
     "output_type": "stream",
     "text": [
      "avg train loss: 14.5339: 100%|██████████| 1/1 [00:00<00:00,  2.69it/s]\n",
      "avg val loss: 20.3041: 100%|██████████| 1/1 [00:00<00:00, 14.08it/s]\n"
     ]
    },
    {
     "name": "stdout",
     "output_type": "stream",
     "text": [
      "---  Accuracy : 0.5378151535987854 \n",
      "\n",
      "Waiting += 1\n",
      "\n",
      "Starting epoch 270 / 300\n"
     ]
    },
    {
     "name": "stderr",
     "output_type": "stream",
     "text": [
      "avg train loss: 16.4150: 100%|██████████| 1/1 [00:00<00:00,  1.94it/s]\n",
      "avg val loss: 15.9331: 100%|██████████| 1/1 [00:00<00:00, 12.35it/s]\n"
     ]
    },
    {
     "name": "stdout",
     "output_type": "stream",
     "text": [
      "---  Accuracy : 0.5378151535987854 \n",
      "\n",
      "Waiting += 1\n",
      "\n",
      "Starting epoch 271 / 300\n"
     ]
    },
    {
     "name": "stderr",
     "output_type": "stream",
     "text": [
      "avg train loss: 12.8736: 100%|██████████| 1/1 [00:00<00:00,  2.39it/s]\n",
      "avg val loss: 5.1905: 100%|██████████| 1/1 [00:00<00:00, 13.89it/s]\n"
     ]
    },
    {
     "name": "stdout",
     "output_type": "stream",
     "text": [
      "---  Accuracy : 0.5378151535987854 \n",
      "\n",
      "Waiting += 1\n",
      "\n",
      "Starting epoch 272 / 300\n"
     ]
    },
    {
     "name": "stderr",
     "output_type": "stream",
     "text": [
      "avg train loss: 4.2083: 100%|██████████| 1/1 [00:00<00:00,  2.43it/s]\n",
      "avg val loss: 12.8373: 100%|██████████| 1/1 [00:00<00:00, 14.93it/s]\n"
     ]
    },
    {
     "name": "stdout",
     "output_type": "stream",
     "text": [
      "---  Accuracy : 0.462184876203537 \n",
      "\n",
      "Waiting += 1\n",
      "\n",
      "Starting epoch 273 / 300\n"
     ]
    },
    {
     "name": "stderr",
     "output_type": "stream",
     "text": [
      "avg train loss: 14.7618: 100%|██████████| 1/1 [00:00<00:00,  2.53it/s]\n",
      "avg val loss: 17.2819: 100%|██████████| 1/1 [00:00<00:00, 14.49it/s]\n"
     ]
    },
    {
     "name": "stdout",
     "output_type": "stream",
     "text": [
      "---  Accuracy : 0.462184876203537 \n",
      "\n",
      "Waiting += 1\n",
      "\n",
      "Starting epoch 274 / 300\n"
     ]
    },
    {
     "name": "stderr",
     "output_type": "stream",
     "text": [
      "avg train loss: 19.8685: 100%|██████████| 1/1 [00:00<00:00,  2.70it/s]\n",
      "avg val loss: 8.3719: 100%|██████████| 1/1 [00:00<00:00, 15.87it/s]\n"
     ]
    },
    {
     "name": "stdout",
     "output_type": "stream",
     "text": [
      "---  Accuracy : 0.462184876203537 \n",
      "\n",
      "Waiting += 1\n",
      "\n",
      "Starting epoch 275 / 300\n"
     ]
    },
    {
     "name": "stderr",
     "output_type": "stream",
     "text": [
      "avg train loss: 9.6116: 100%|██████████| 1/1 [00:00<00:00,  2.62it/s]\n",
      "avg val loss: 10.6795: 100%|██████████| 1/1 [00:00<00:00, 11.90it/s]\n"
     ]
    },
    {
     "name": "stdout",
     "output_type": "stream",
     "text": [
      "---  Accuracy : 0.5378151535987854 \n",
      "\n",
      "Waiting += 1\n",
      "\n",
      "Starting epoch 276 / 300\n"
     ]
    },
    {
     "name": "stderr",
     "output_type": "stream",
     "text": [
      "avg train loss: 8.6337: 100%|██████████| 1/1 [00:00<00:00,  2.50it/s]\n",
      "avg val loss: 20.0925: 100%|██████████| 1/1 [00:00<00:00, 14.49it/s]\n"
     ]
    },
    {
     "name": "stdout",
     "output_type": "stream",
     "text": [
      "---  Accuracy : 0.5378151535987854 \n",
      "\n",
      "Waiting += 1\n",
      "\n",
      "Starting epoch 277 / 300\n"
     ]
    },
    {
     "name": "stderr",
     "output_type": "stream",
     "text": [
      "avg train loss: 16.2328: 100%|██████████| 1/1 [00:00<00:00,  2.64it/s]\n",
      "avg val loss: 22.0168: 100%|██████████| 1/1 [00:00<00:00, 16.39it/s]\n"
     ]
    },
    {
     "name": "stdout",
     "output_type": "stream",
     "text": [
      "---  Accuracy : 0.5378151535987854 \n",
      "\n",
      "Waiting += 1\n",
      "\n",
      "Starting epoch 278 / 300\n"
     ]
    },
    {
     "name": "stderr",
     "output_type": "stream",
     "text": [
      "avg train loss: 17.7706: 100%|██████████| 1/1 [00:00<00:00,  2.74it/s]\n",
      "avg val loss: 16.9678: 100%|██████████| 1/1 [00:00<00:00, 15.62it/s]\n"
     ]
    },
    {
     "name": "stdout",
     "output_type": "stream",
     "text": [
      "---  Accuracy : 0.5378151535987854 \n",
      "\n",
      "Waiting += 1\n",
      "\n",
      "Starting epoch 279 / 300\n"
     ]
    },
    {
     "name": "stderr",
     "output_type": "stream",
     "text": [
      "avg train loss: 13.7002: 100%|██████████| 1/1 [00:00<00:00,  2.65it/s]\n",
      "avg val loss: 5.8907: 100%|██████████| 1/1 [00:00<00:00, 16.13it/s]\n"
     ]
    },
    {
     "name": "stdout",
     "output_type": "stream",
     "text": [
      "---  Accuracy : 0.5378151535987854 \n",
      "\n",
      "Waiting += 1\n",
      "\n",
      "Starting epoch 280 / 300\n"
     ]
    },
    {
     "name": "stderr",
     "output_type": "stream",
     "text": [
      "avg train loss: 4.7773: 100%|██████████| 1/1 [00:00<00:00,  2.94it/s]\n",
      "avg val loss: 12.0132: 100%|██████████| 1/1 [00:00<00:00, 14.08it/s]\n"
     ]
    },
    {
     "name": "stdout",
     "output_type": "stream",
     "text": [
      "---  Accuracy : 0.462184876203537 \n",
      "\n",
      "Waiting += 1\n",
      "\n",
      "Starting epoch 281 / 300\n"
     ]
    },
    {
     "name": "stderr",
     "output_type": "stream",
     "text": [
      "avg train loss: 13.8040: 100%|██████████| 1/1 [00:00<00:00,  2.86it/s]\n",
      "avg val loss: 16.4371: 100%|██████████| 1/1 [00:00<00:00, 16.95it/s]\n"
     ]
    },
    {
     "name": "stdout",
     "output_type": "stream",
     "text": [
      "---  Accuracy : 0.462184876203537 \n",
      "\n",
      "Waiting += 1\n",
      "\n",
      "Starting epoch 282 / 300\n"
     ]
    },
    {
     "name": "stderr",
     "output_type": "stream",
     "text": [
      "avg train loss: 18.8973: 100%|██████████| 1/1 [00:00<00:00,  3.08it/s]\n",
      "avg val loss: 7.6072: 100%|██████████| 1/1 [00:00<00:00, 17.54it/s]\n"
     ]
    },
    {
     "name": "stdout",
     "output_type": "stream",
     "text": [
      "---  Accuracy : 0.462184876203537 \n",
      "\n",
      "Waiting += 1\n",
      "\n",
      "Starting epoch 283 / 300\n"
     ]
    },
    {
     "name": "stderr",
     "output_type": "stream",
     "text": [
      "avg train loss: 8.7324: 100%|██████████| 1/1 [00:00<00:00,  2.73it/s]\n",
      "avg val loss: 11.1440: 100%|██████████| 1/1 [00:00<00:00, 14.29it/s]\n"
     ]
    },
    {
     "name": "stdout",
     "output_type": "stream",
     "text": [
      "---  Accuracy : 0.5378151535987854 \n",
      "\n",
      "Waiting += 1\n",
      "\n",
      "Starting epoch 284 / 300\n"
     ]
    },
    {
     "name": "stderr",
     "output_type": "stream",
     "text": [
      "avg train loss: 9.0193: 100%|██████████| 1/1 [00:00<00:00,  2.34it/s]\n",
      "avg val loss: 20.4483: 100%|██████████| 1/1 [00:00<00:00, 13.89it/s]\n"
     ]
    },
    {
     "name": "stdout",
     "output_type": "stream",
     "text": [
      "---  Accuracy : 0.5378151535987854 \n",
      "\n",
      "Waiting += 1\n",
      "\n",
      "Starting epoch 285 / 300\n"
     ]
    },
    {
     "name": "stderr",
     "output_type": "stream",
     "text": [
      "avg train loss: 16.5282: 100%|██████████| 1/1 [00:00<00:00,  2.51it/s]\n",
      "avg val loss: 22.1438: 100%|██████████| 1/1 [00:00<00:00, 14.08it/s]\n"
     ]
    },
    {
     "name": "stdout",
     "output_type": "stream",
     "text": [
      "---  Accuracy : 0.5378151535987854 \n",
      "\n",
      "Waiting += 1\n",
      "\n",
      "Starting epoch 286 / 300\n"
     ]
    },
    {
     "name": "stderr",
     "output_type": "stream",
     "text": [
      "avg train loss: 17.8906: 100%|██████████| 1/1 [00:00<00:00,  2.54it/s]\n",
      "avg val loss: 17.0089: 100%|██████████| 1/1 [00:00<00:00, 17.24it/s]\n"
     ]
    },
    {
     "name": "stdout",
     "output_type": "stream",
     "text": [
      "---  Accuracy : 0.5378151535987854 \n",
      "\n",
      "Waiting += 1\n",
      "\n",
      "Starting epoch 287 / 300\n"
     ]
    },
    {
     "name": "stderr",
     "output_type": "stream",
     "text": [
      "avg train loss: 13.7543: 100%|██████████| 1/1 [00:00<00:00,  2.56it/s]\n",
      "avg val loss: 5.8827: 100%|██████████| 1/1 [00:00<00:00, 16.39it/s]\n"
     ]
    },
    {
     "name": "stdout",
     "output_type": "stream",
     "text": [
      "---  Accuracy : 0.5378151535987854 \n",
      "\n",
      "Waiting += 1\n",
      "\n",
      "Starting epoch 288 / 300\n"
     ]
    },
    {
     "name": "stderr",
     "output_type": "stream",
     "text": [
      "avg train loss: 4.7576: 100%|██████████| 1/1 [00:00<00:00,  2.85it/s]\n",
      "avg val loss: 12.4799: 100%|██████████| 1/1 [00:00<00:00, 13.70it/s]\n"
     ]
    },
    {
     "name": "stdout",
     "output_type": "stream",
     "text": [
      "---  Accuracy : 0.462184876203537 \n",
      "\n",
      "Waiting += 1\n",
      "\n",
      "Starting epoch 289 / 300\n"
     ]
    },
    {
     "name": "stderr",
     "output_type": "stream",
     "text": [
      "avg train loss: 14.3784: 100%|██████████| 1/1 [00:00<00:00,  2.96it/s]\n",
      "avg val loss: 17.0482: 100%|██████████| 1/1 [00:00<00:00, 13.89it/s]\n"
     ]
    },
    {
     "name": "stdout",
     "output_type": "stream",
     "text": [
      "---  Accuracy : 0.462184876203537 \n",
      "\n",
      "Waiting += 1\n",
      "\n",
      "Starting epoch 290 / 300\n"
     ]
    },
    {
     "name": "stderr",
     "output_type": "stream",
     "text": [
      "avg train loss: 19.6576: 100%|██████████| 1/1 [00:00<00:00,  2.94it/s]\n",
      "avg val loss: 8.4746: 100%|██████████| 1/1 [00:00<00:00, 18.18it/s]\n"
     ]
    },
    {
     "name": "stdout",
     "output_type": "stream",
     "text": [
      "---  Accuracy : 0.462184876203537 \n",
      "\n",
      "Waiting += 1\n",
      "\n",
      "Starting epoch 291 / 300\n"
     ]
    },
    {
     "name": "stderr",
     "output_type": "stream",
     "text": [
      "avg train loss: 9.7658: 100%|██████████| 1/1 [00:00<00:00,  2.82it/s]\n",
      "avg val loss: 10.3210: 100%|██████████| 1/1 [00:00<00:00, 16.39it/s]\n"
     ]
    },
    {
     "name": "stdout",
     "output_type": "stream",
     "text": [
      "---  Accuracy : 0.5378151535987854 \n",
      "\n",
      "Waiting += 1\n",
      "\n",
      "Starting epoch 292 / 300\n"
     ]
    },
    {
     "name": "stderr",
     "output_type": "stream",
     "text": [
      "avg train loss: 8.3475: 100%|██████████| 1/1 [00:00<00:00,  2.75it/s]\n",
      "avg val loss: 19.4790: 100%|██████████| 1/1 [00:00<00:00, 14.49it/s]\n"
     ]
    },
    {
     "name": "stdout",
     "output_type": "stream",
     "text": [
      "---  Accuracy : 0.5378151535987854 \n",
      "\n",
      "Waiting += 1\n",
      "\n",
      "Starting epoch 293 / 300\n"
     ]
    },
    {
     "name": "stderr",
     "output_type": "stream",
     "text": [
      "avg train loss: 15.7532: 100%|██████████| 1/1 [00:00<00:00,  2.79it/s]\n",
      "avg val loss: 21.0197: 100%|██████████| 1/1 [00:00<00:00, 14.29it/s]\n"
     ]
    },
    {
     "name": "stdout",
     "output_type": "stream",
     "text": [
      "---  Accuracy : 0.5378151535987854 \n",
      "\n",
      "Waiting += 1\n",
      "\n",
      "Starting epoch 294 / 300\n"
     ]
    },
    {
     "name": "stderr",
     "output_type": "stream",
     "text": [
      "avg train loss: 17.0152: 100%|██████████| 1/1 [00:00<00:00,  2.54it/s]\n",
      "avg val loss: 15.9850: 100%|██████████| 1/1 [00:00<00:00, 15.62it/s]\n"
     ]
    },
    {
     "name": "stdout",
     "output_type": "stream",
     "text": [
      "---  Accuracy : 0.5378151535987854 \n",
      "\n",
      "Waiting += 1\n",
      "\n",
      "Starting epoch 295 / 300\n"
     ]
    },
    {
     "name": "stderr",
     "output_type": "stream",
     "text": [
      "avg train loss: 12.9332: 100%|██████████| 1/1 [00:00<00:00,  2.60it/s]\n",
      "avg val loss: 4.7399: 100%|██████████| 1/1 [00:00<00:00, 12.35it/s]\n"
     ]
    },
    {
     "name": "stdout",
     "output_type": "stream",
     "text": [
      "---  Accuracy : 0.5378151535987854 \n",
      "\n",
      "Waiting += 1\n",
      "\n",
      "Starting epoch 296 / 300\n"
     ]
    },
    {
     "name": "stderr",
     "output_type": "stream",
     "text": [
      "avg train loss: 3.8487: 100%|██████████| 1/1 [00:00<00:00,  2.42it/s]\n",
      "avg val loss: 14.1484: 100%|██████████| 1/1 [00:00<00:00, 12.66it/s]\n"
     ]
    },
    {
     "name": "stdout",
     "output_type": "stream",
     "text": [
      "---  Accuracy : 0.462184876203537 \n",
      "\n",
      "Waiting += 1\n",
      "\n",
      "Starting epoch 297 / 300\n"
     ]
    },
    {
     "name": "stderr",
     "output_type": "stream",
     "text": [
      "avg train loss: 16.2738: 100%|██████████| 1/1 [00:00<00:00,  2.31it/s]\n",
      "avg val loss: 18.8789: 100%|██████████| 1/1 [00:00<00:00, 13.70it/s]\n"
     ]
    },
    {
     "name": "stdout",
     "output_type": "stream",
     "text": [
      "---  Accuracy : 0.462184876203537 \n",
      "\n",
      "Waiting += 1\n",
      "\n",
      "Starting epoch 298 / 300\n"
     ]
    },
    {
     "name": "stderr",
     "output_type": "stream",
     "text": [
      "avg train loss: 21.7133: 100%|██████████| 1/1 [00:00<00:00,  2.11it/s]\n",
      "avg val loss: 10.0400: 100%|██████████| 1/1 [00:00<00:00, 14.71it/s]"
     ]
    },
    {
     "name": "stdout",
     "output_type": "stream",
     "text": [
      "---  Accuracy : 0.462184876203537 \n",
      "\n",
      "Waiting += 1\n",
      "Stop training at epoch 298\n",
      "Best val loss : 0.7210\n"
     ]
    },
    {
     "name": "stderr",
     "output_type": "stream",
     "text": [
      "\n"
     ]
    },
    {
     "data": {
      "text/plain": "CommonSpatialFilterModel(\n  (spatial_filtering): Conv2d(1, 30, kernel_size=(32, 1), stride=(1, 1), bias=False)\n  (classifier): Sequential(\n    (0): Linear(in_features=30, out_features=2, bias=True)\n  )\n)"
     },
     "execution_count": 15,
     "metadata": {},
     "output_type": "execute_result"
    }
   ],
   "source": [
    "lr = 1e-3\n",
    "n_epochs = 300\n",
    "patience = 100\n",
    "\n",
    "model.to(device=device)  # move to device before creating the optimizer\n",
    "optimizer = optim.SGD(model.parameters(), lr=lr, momentum=0.9,\n",
    "                      weight_decay=1e-4)\n",
    "\n",
    "train(model, loader_train, loader_valid, optimizer, n_epochs, patience, device)"
   ]
  },
  {
   "cell_type": "code",
   "execution_count": null,
   "id": "7a55bb4a",
   "metadata": {},
   "outputs": [],
   "source": []
  }
 ],
 "metadata": {
  "kernelspec": {
   "display_name": "Python 3 (ipykernel)",
   "language": "python",
   "name": "python3"
  },
  "language_info": {
   "codemirror_mode": {
    "name": "ipython",
    "version": 3
   },
   "file_extension": ".py",
   "mimetype": "text/x-python",
   "name": "python",
   "nbconvert_exporter": "python",
   "pygments_lexer": "ipython3",
   "version": "3.8.8"
  }
 },
 "nbformat": 4,
 "nbformat_minor": 5
}